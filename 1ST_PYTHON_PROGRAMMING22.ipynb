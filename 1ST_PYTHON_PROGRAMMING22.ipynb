{
  "cells": [
    {
      "cell_type": "markdown",
      "metadata": {
        "id": "view-in-github",
        "colab_type": "text"
      },
      "source": [
        "<a href=\"https://colab.research.google.com/github/KinjalBiswas-2005/python-applications/blob/main/1ST_PYTHON_PROGRAMMING22.ipynb\" target=\"_parent\"><img src=\"https://colab.research.google.com/assets/colab-badge.svg\" alt=\"Open In Colab\"/></a>"
      ]
    },
    {
      "cell_type": "code",
      "execution_count": null,
      "metadata": {
        "colab": {
          "base_uri": "https://localhost:8080/"
        },
        "id": "asNtQnfpxaTB",
        "outputId": "eedc2233-01dc-45d3-9509-97dd75103220"
      },
      "outputs": [
        {
          "name": "stdout",
          "output_type": "stream",
          "text": [
            "welcome to python programming\n"
          ]
        }
      ],
      "source": [
        "print('welcome to python programming')"
      ]
    },
    {
      "cell_type": "code",
      "execution_count": null,
      "metadata": {
        "colab": {
          "base_uri": "https://localhost:8080/"
        },
        "id": "A4PC286EyH5F",
        "outputId": "d3c388ba-c88d-4dfe-b167-0b1eecc3c7c8"
      },
      "outputs": [
        {
          "name": "stdout",
          "output_type": "stream",
          "text": [
            "hellocse\n"
          ]
        }
      ],
      "source": [
        "print('hello',end='')\n",
        "print(\"cse\")"
      ]
    },
    {
      "cell_type": "code",
      "execution_count": null,
      "metadata": {
        "colab": {
          "base_uri": "https://localhost:8080/"
        },
        "id": "qXKcsAmWyuhD",
        "outputId": "ab16662d-2cc2-483a-d955-36e28b43fe54"
      },
      "outputs": [
        {
          "name": "stdout",
          "output_type": "stream",
          "text": [
            "a= 100\n"
          ]
        }
      ],
      "source": [
        "a=100\n",
        "print(\"a=\",a)"
      ]
    },
    {
      "cell_type": "code",
      "execution_count": null,
      "metadata": {
        "colab": {
          "base_uri": "https://localhost:8080/"
        },
        "id": "7PBoGalty74f",
        "outputId": "0dbaaf02-53b0-452d-d977-4ed835041483"
      },
      "outputs": [
        {
          "output_type": "stream",
          "name": "stdout",
          "text": [
            "Enter your nameKinjal\n",
            "Myself : Kinjal\n"
          ]
        }
      ],
      "source": [
        "n=input('Enter your name')\n",
        "print('Myself :', n)"
      ]
    },
    {
      "cell_type": "code",
      "execution_count": null,
      "metadata": {
        "colab": {
          "background_save": true
        },
        "id": "Fss4OXT-3DH-",
        "outputId": "780f209c-ef09-4555-f565-be47b721c066"
      },
      "outputs": [
        {
          "name": "stdout",
          "output_type": "stream",
          "text": [
            "5\n",
            "23\n"
          ]
        }
      ],
      "source": [
        "print(2+3)\n",
        "print"
      ]
    },
    {
      "cell_type": "code",
      "source": [
        "# Complex Number\n",
        "a=12+15j\n",
        "print('a=' ,a)\n",
        "print(a.real)\n",
        "print(a.imag)"
      ],
      "metadata": {
        "colab": {
          "base_uri": "https://localhost:8080/"
        },
        "id": "jVB_yyp_bpm2",
        "outputId": "27515e8b-e451-4600-e8c4-bd97b8ce71ec"
      },
      "execution_count": null,
      "outputs": [
        {
          "output_type": "stream",
          "name": "stdout",
          "text": [
            "a= (12+15j)\n",
            "12.0\n",
            "15.0\n"
          ]
        }
      ]
    },
    {
      "cell_type": "code",
      "source": [
        "a=0b111\n",
        "print('a =', a)\n",
        "b=0xaa\n",
        "print('b =', b)"
      ],
      "metadata": {
        "colab": {
          "base_uri": "https://localhost:8080/"
        },
        "id": "INPqb4KzcN3H",
        "outputId": "9412da6c-1040-4073-98c1-6bccee5ba8d0"
      },
      "execution_count": null,
      "outputs": [
        {
          "output_type": "stream",
          "name": "stdout",
          "text": [
            "a = 7\n",
            "b = 170\n"
          ]
        }
      ]
    },
    {
      "cell_type": "code",
      "source": [
        "from re import T\n",
        "# to check data type\n",
        "a=100\n",
        "b=10.55\n",
        "c='ABIT'\n",
        "d=True\n",
        "print('Type of a=',type(a))\n",
        "print('Type of b=',type(b))\n",
        "print('Type of c=',type(c))\n",
        "print('Type of d=',type(d))\n"
      ],
      "metadata": {
        "colab": {
          "base_uri": "https://localhost:8080/"
        },
        "id": "Z_WHmDMkc1F5",
        "outputId": "0b8875e1-bce9-4fa1-8d3b-954b9dbd4f85"
      },
      "execution_count": null,
      "outputs": [
        {
          "output_type": "stream",
          "name": "stdout",
          "text": [
            "Type of a= <class 'int'>\n",
            "Type of b= <class 'float'>\n",
            "Type of c= <class 'str'>\n",
            "Type of d= <class 'bool'>\n"
          ]
        }
      ]
    },
    {
      "cell_type": "code",
      "source": [
        "print('Hello cse group-ii')"
      ],
      "metadata": {
        "id": "RSem2ZNqgcCt",
        "colab": {
          "base_uri": "https://localhost:8080/"
        },
        "outputId": "cd7ce3e0-ddf7-407f-971d-3732025c149a"
      },
      "execution_count": null,
      "outputs": [
        {
          "output_type": "stream",
          "name": "stdout",
          "text": [
            "Hello cse group-ii\n"
          ]
        }
      ]
    },
    {
      "cell_type": "code",
      "source": [
        "#Using of + operator\n",
        "a = int(input('Enter 1st no.'))\n",
        "b = int(input('Enter 2nd no.'))\n",
        "c = a + b\n",
        "print(c)"
      ],
      "metadata": {
        "colab": {
          "base_uri": "https://localhost:8080/"
        },
        "id": "3xw5nYwPkW0i",
        "outputId": "2ba65dc9-c23e-4b53-931d-402bf5e65f44"
      },
      "execution_count": null,
      "outputs": [
        {
          "output_type": "stream",
          "name": "stdout",
          "text": [
            "Enter 1st no.22\n",
            "Enter 2nd no.33\n",
            "55\n"
          ]
        }
      ]
    },
    {
      "cell_type": "code",
      "source": [
        "a =123\n",
        "print(type(a))\n",
        "b =\"Hello\"\n",
        "print(type(b))\n",
        "c=12.3\n",
        "print(type(c))\n",
        "d=True\n",
        "print(type(d))"
      ],
      "metadata": {
        "colab": {
          "base_uri": "https://localhost:8080/"
        },
        "id": "FIoUb1y9mZS-",
        "outputId": "63afba38-ede0-4bcd-8318-f794f43ea59b"
      },
      "execution_count": null,
      "outputs": [
        {
          "output_type": "stream",
          "name": "stdout",
          "text": [
            "<class 'int'>\n",
            "<class 'str'>\n",
            "<class 'float'>\n",
            "<class 'bool'>\n"
          ]
        }
      ]
    },
    {
      "cell_type": "code",
      "source": [
        "from binascii import b2a_base64\n",
        "#Arithmetic Operators\n",
        "a = 2\n",
        "b = 5\n",
        "c = a+b\n",
        "print('a+b=' ,c)\n",
        "d = a-b\n",
        "print('a-b=' ,d)\n",
        "e = a*b\n",
        "print('a*b=' ,e)\n",
        "f = a/b\n",
        "print('a/b=' ,f)\n",
        "h = a//b\n",
        "print('a-b=' ,h)\n",
        "g = a%b\n",
        "print('a%b=' ,g)\n",
        "i = a**b\n",
        "print('a**b=' ,i)\n"
      ],
      "metadata": {
        "colab": {
          "base_uri": "https://localhost:8080/"
        },
        "id": "74Fxlhrin_Ds",
        "outputId": "605f6233-32ca-4d39-d3d3-960d8c25ad6d"
      },
      "execution_count": null,
      "outputs": [
        {
          "output_type": "stream",
          "name": "stdout",
          "text": [
            "a+b= 7\n",
            "a-b= -3\n",
            "a*b= 10\n",
            "a/b= 0.4\n",
            "a-b= 0\n",
            "a%b= 2\n",
            "a**b= 32\n"
          ]
        }
      ]
    },
    {
      "cell_type": "code",
      "source": [
        "a = 8\n",
        "b = 5\n",
        "d = a != b\n",
        "print('a != b=' ,d)"
      ],
      "metadata": {
        "colab": {
          "base_uri": "https://localhost:8080/"
        },
        "id": "cUSD6N-FsVlj",
        "outputId": "1548964c-8adf-4981-a43c-873b26f08173"
      },
      "execution_count": null,
      "outputs": [
        {
          "output_type": "stream",
          "name": "stdout",
          "text": [
            "a != b= True\n"
          ]
        }
      ]
    },
    {
      "cell_type": "code",
      "source": [
        "#Bitwise - Shift operator\n",
        "a = 4\n",
        "b = 2\n",
        "d = a & b\n",
        "print('a & b=' ,d)\n",
        "f= a << b\n",
        "print('a << b=',f)"
      ],
      "metadata": {
        "colab": {
          "base_uri": "https://localhost:8080/"
        },
        "id": "DSSHQAS-tHMl",
        "outputId": "d6b27941-3993-4024-d3db-8446b65adac8"
      },
      "execution_count": null,
      "outputs": [
        {
          "output_type": "stream",
          "name": "stdout",
          "text": [
            "a & b= 0\n",
            "a << b= 16\n"
          ]
        }
      ]
    },
    {
      "cell_type": "code",
      "source": [
        "a=2\n",
        "b=5\n",
        "a+=b\n",
        "print('a =',a)\n",
        "print('b =',b)"
      ],
      "metadata": {
        "colab": {
          "base_uri": "https://localhost:8080/"
        },
        "id": "1X8vi1UuuiCU",
        "outputId": "852bf26a-b154-4755-d68a-969e8abc353d"
      },
      "execution_count": null,
      "outputs": [
        {
          "output_type": "stream",
          "name": "stdout",
          "text": [
            "a = 7\n",
            "b = 5\n"
          ]
        }
      ]
    },
    {
      "cell_type": "code",
      "source": [
        "#Special Operator\n",
        "a=5\n",
        "b=5\n",
        "d = a is b\n",
        "print('a is b =',d)\n",
        "d = a is not b\n",
        "print('a is not b =',d)"
      ],
      "metadata": {
        "colab": {
          "base_uri": "https://localhost:8080/"
        },
        "id": "WPqNuOwovOJ2",
        "outputId": "b02b8589-9e82-4a92-aacf-c5d7029be195"
      },
      "execution_count": null,
      "outputs": [
        {
          "output_type": "stream",
          "name": "stdout",
          "text": [
            "a is b = True\n",
            "a is not b = False\n"
          ]
        }
      ]
    },
    {
      "cell_type": "code",
      "source": [
        "# in Operator\n",
        "a =\"Hello\"\n",
        "b ='l'\n",
        "c = b in a\n",
        "print('b in a =', c)\n",
        "d = b not in a\n",
        "print('b not in a =',d)"
      ],
      "metadata": {
        "colab": {
          "base_uri": "https://localhost:8080/"
        },
        "id": "uIBsBz4KwQY4",
        "outputId": "3dee95d4-0201-4fe8-cecf-cc8e72a5865f"
      },
      "execution_count": null,
      "outputs": [
        {
          "output_type": "stream",
          "name": "stdout",
          "text": [
            "b in a = True\n",
            "b not in a = False\n"
          ]
        }
      ]
    },
    {
      "cell_type": "code",
      "source": [
        "# input a no and check even.\n",
        "a=int(input('Enter a number'))\n",
        "if a%2==0:\n",
        "  print('Even number')\n",
        "else:\n",
        "   print('Odd number')"
      ],
      "metadata": {
        "colab": {
          "base_uri": "https://localhost:8080/"
        },
        "id": "3xnu-LNgzhVN",
        "outputId": "2309313d-2b01-47ec-ce33-af21f3a364d4"
      },
      "execution_count": null,
      "outputs": [
        {
          "output_type": "stream",
          "name": "stdout",
          "text": [
            "Enter a number5\n",
            "Odd number\n"
          ]
        }
      ]
    },
    {
      "cell_type": "code",
      "source": [
        "# input a no and check maximum.\n",
        "a=int(input('Enter a number'))\n",
        "b=int(input('Enter a number'))\n",
        "if a>b:\n",
        "  print('a is max')\n",
        "else:\n",
        "  print('b is min')"
      ],
      "metadata": {
        "colab": {
          "base_uri": "https://localhost:8080/"
        },
        "id": "bEngXdGv0Q3d",
        "outputId": "d59e5c5c-730c-4213-f41b-f48390a23168"
      },
      "execution_count": null,
      "outputs": [
        {
          "output_type": "stream",
          "name": "stdout",
          "text": [
            "Enter a number26\n",
            "Enter a number34\n",
            "b is min\n"
          ]
        }
      ]
    },
    {
      "cell_type": "code",
      "source": [
        "number=int(input(\"Enter the number?\"))\n",
        "if number==10:\n",
        "  print(\"number is equal to 10\")\n",
        "elif number==50:\n",
        "  print(\"number is equal to 50\")\n",
        "elif number==100:\n",
        "  print(\"number is equal to 100\")\n",
        "else:\n",
        "  print(\"number is not equal to 10,50 or 100\")\n",
        "\n"
      ],
      "metadata": {
        "colab": {
          "base_uri": "https://localhost:8080/"
        },
        "id": "01JJWq5a3jzQ",
        "outputId": "6fd3db83-bdcf-4c95-fefa-8d7ee6d7c518"
      },
      "execution_count": null,
      "outputs": [
        {
          "output_type": "stream",
          "name": "stdout",
          "text": [
            "Enter the number?100\n",
            "number is equal to 100\n"
          ]
        }
      ]
    },
    {
      "cell_type": "code",
      "source": [
        "str = 'PYTHON'\n",
        "for i in str:\n",
        "  print(i)"
      ],
      "metadata": {
        "colab": {
          "base_uri": "https://localhost:8080/"
        },
        "id": "NsxjcKe-4y_s",
        "outputId": "7d6c0c54-ee6e-4f09-b71e-779f2aae0fed"
      },
      "execution_count": null,
      "outputs": [
        {
          "output_type": "stream",
          "name": "stdout",
          "text": [
            "P\n",
            "Y\n",
            "T\n",
            "H\n",
            "O\n",
            "N\n"
          ]
        }
      ]
    },
    {
      "cell_type": "code",
      "source": [
        "for i in range(1,11):\n",
        "  print(i,end =\"\")\n"
      ],
      "metadata": {
        "colab": {
          "base_uri": "https://localhost:8080/"
        },
        "id": "kQymgsEm5kP_",
        "outputId": "7c0ac1f7-840c-45dc-de10-df3eeba25280"
      },
      "execution_count": null,
      "outputs": [
        {
          "output_type": "stream",
          "name": "stdout",
          "text": [
            "12345678910"
          ]
        }
      ]
    },
    {
      "cell_type": "code",
      "source": [
        "\n",
        "n = int(input('n = ?'))\n",
        "c=0\n",
        "for i in range (1,n+1):\n",
        "  if(i%2==1):\n",
        "    c=c+1\n",
        "    print(i,end=',')\n",
        "print('No of ODD=',c)"
      ],
      "metadata": {
        "colab": {
          "base_uri": "https://localhost:8080/"
        },
        "id": "_3_xuOK37AzE",
        "outputId": "38be0848-d039-4e17-a2d6-3bab9c58c2b3"
      },
      "execution_count": null,
      "outputs": [
        {
          "output_type": "stream",
          "name": "stdout",
          "text": [
            "n = ?10\n",
            "1,3,5,7,9,No of ODD= 5\n"
          ]
        }
      ]
    },
    {
      "cell_type": "code",
      "source": [
        "# while loop\n",
        "n = 1\n",
        "while n<=10:\n",
        "  print(n)\n",
        "  n=n+1\n"
      ],
      "metadata": {
        "colab": {
          "base_uri": "https://localhost:8080/"
        },
        "id": "riOKSZpp9qrA",
        "outputId": "c6151dfa-434f-4ba4-ee56-dd5a1c1b723b"
      },
      "execution_count": null,
      "outputs": [
        {
          "output_type": "stream",
          "name": "stdout",
          "text": [
            "1\n",
            "2\n",
            "3\n",
            "4\n",
            "5\n",
            "6\n",
            "7\n",
            "8\n",
            "9\n",
            "10\n"
          ]
        }
      ]
    },
    {
      "cell_type": "code",
      "source": [
        "#while loop\n",
        "num=int(input('Enter the no.s'))\n",
        "rev=0\n",
        "while num!=0:\n",
        "  d=num%10\n",
        "  rev=rev*10+d\n",
        "  num//=10\n",
        "  print('Reverse is'+str(rev))"
      ],
      "metadata": {
        "colab": {
          "base_uri": "https://localhost:8080/"
        },
        "id": "u0ZR2z0lc_dk",
        "outputId": "28497eec-d05f-433b-a312-70c0c9ddc5d4"
      },
      "execution_count": null,
      "outputs": [
        {
          "output_type": "stream",
          "name": "stdout",
          "text": [
            "Enter the no.s34567\n",
            "Reverse is7\n",
            "Reverse is76\n",
            "Reverse is765\n",
            "Reverse is7654\n",
            "Reverse is76543\n"
          ]
        }
      ]
    },
    {
      "cell_type": "code",
      "source": [
        "#to find the reverse of a number\n",
        "n=int(input('Enter a number'))\n",
        "c=0\n",
        "reverse=0\n",
        "while(n>0):\n",
        "  reverse=reverse+n%10\n",
        "n=n/10\n",
        "print('The reverse of the number is',reverse)"
      ],
      "metadata": {
        "id": "rgHbGDAD8SMb"
      },
      "execution_count": null,
      "outputs": []
    },
    {
      "cell_type": "code",
      "source": [
        "rows=6\n",
        "for i in range(rows):\n",
        "  for j in range(i):\n",
        "    print(i,end='')\n",
        "  print('')"
      ],
      "metadata": {
        "colab": {
          "base_uri": "https://localhost:8080/"
        },
        "id": "6tLYlH4Dd8iv",
        "outputId": "a639fdc4-d499-4018-eeb4-ec796b652dc1"
      },
      "execution_count": null,
      "outputs": [
        {
          "output_type": "stream",
          "name": "stdout",
          "text": [
            "\n",
            "1\n",
            "22\n",
            "333\n",
            "4444\n",
            "55555\n"
          ]
        }
      ]
    },
    {
      "cell_type": "code",
      "source": [
        "rows=6\n",
        "b=0\n",
        "for i in range(rows,0,-1):\n",
        "  b +=1\n",
        "  for j in range(1,i,+1):\n",
        "    print(b,end='')\n",
        "  print('\\r')"
      ],
      "metadata": {
        "colab": {
          "base_uri": "https://localhost:8080/"
        },
        "id": "TS-CBPgMedW0",
        "outputId": "d87cac8a-963e-47af-a7a1-a46ee10d53b8"
      },
      "execution_count": null,
      "outputs": [
        {
          "output_type": "stream",
          "name": "stdout",
          "text": [
            "11111\r\n",
            "2222\r\n",
            "333\r\n",
            "44\r\n",
            "5\r\n",
            "\r\n"
          ]
        }
      ]
    },
    {
      "cell_type": "code",
      "source": [
        "n=5\n",
        "for i in range(n,0,-1):\n",
        " b=i\n",
        " for j in range(0,i):\n",
        "  print(b,end='')\n",
        " print('\\r')"
      ],
      "metadata": {
        "colab": {
          "base_uri": "https://localhost:8080/"
        },
        "id": "pMvq6KvEfuj-",
        "outputId": "7f0579eb-6b92-4009-95b4-15be115339ca"
      },
      "execution_count": null,
      "outputs": [
        {
          "output_type": "stream",
          "name": "stdout",
          "text": [
            "55555\r\n",
            "4444\r\n",
            "333\r\n",
            "22\r\n",
            "1\r\n"
          ]
        }
      ]
    },
    {
      "cell_type": "code",
      "source": [
        "for i in range(5,0,-1):\n",
        "  for j in range(i,6):\n",
        "    print(i,end='')\n",
        "  print('')"
      ],
      "metadata": {
        "colab": {
          "base_uri": "https://localhost:8080/"
        },
        "id": "nN-S5Nj1gUQH",
        "outputId": "2699dac6-d636-4609-a4c4-b6d9ba67f4ac"
      },
      "execution_count": null,
      "outputs": [
        {
          "output_type": "stream",
          "name": "stdout",
          "text": [
            "5\n",
            "44\n",
            "333\n",
            "2222\n",
            "11111\n"
          ]
        }
      ]
    },
    {
      "cell_type": "code",
      "source": [
        "rows=6\n",
        "for i in range(1,6):\n",
        "  print(str(i)*(i))\n",
        "\n",
        "\n",
        "for i in range(4,0,-1):\n",
        "    print(str(i)*(i))"
      ],
      "metadata": {
        "id": "0mLG9aHcg874",
        "colab": {
          "base_uri": "https://localhost:8080/"
        },
        "outputId": "3e105b8d-d296-4ad6-dc88-0424a15384db"
      },
      "execution_count": null,
      "outputs": [
        {
          "output_type": "stream",
          "name": "stdout",
          "text": [
            "1\n",
            "22\n",
            "333\n",
            "4444\n",
            "55555\n",
            "4444\n",
            "333\n",
            "22\n",
            "1\n"
          ]
        }
      ]
    },
    {
      "cell_type": "code",
      "source": [
        "rows=6\n",
        "for i in range(rows,0,-1):\n",
        "  for j in range(0,i+1):\n",
        "    print(j,end='')\n",
        "  print('')"
      ],
      "metadata": {
        "colab": {
          "base_uri": "https://localhost:8080/"
        },
        "id": "cDQzthLD14IE",
        "outputId": "6bb862c1-a8ad-4e5f-c50a-df7b2215b7fd"
      },
      "execution_count": null,
      "outputs": [
        {
          "output_type": "stream",
          "name": "stdout",
          "text": [
            "0123456\n",
            "012345\n",
            "01234\n",
            "0123\n",
            "012\n",
            "01\n"
          ]
        }
      ]
    },
    {
      "cell_type": "code",
      "source": [
        "rows=5\n",
        "num=rows\n",
        "for i in range(rows,0,-1):\n",
        "  for j in range(0,i):\n",
        "    print(num,end='')\n",
        "  print('')"
      ],
      "metadata": {
        "colab": {
          "base_uri": "https://localhost:8080/"
        },
        "id": "hlW58y7F2RHr",
        "outputId": "01d0363b-e9c5-447a-afc0-cd1213b3ec31"
      },
      "execution_count": null,
      "outputs": [
        {
          "output_type": "stream",
          "name": "stdout",
          "text": [
            "55555\n",
            "5555\n",
            "555\n",
            "55\n",
            "5\n"
          ]
        }
      ]
    },
    {
      "cell_type": "code",
      "source": [
        "rows=6\n",
        "for i in range(1,rows):\n",
        "  for j in range(1,i+1):\n",
        "    sq=i*j\n",
        "    print(i*j,end='')\n",
        "  print('\\r')"
      ],
      "metadata": {
        "colab": {
          "base_uri": "https://localhost:8080/"
        },
        "id": "Yu5l-duu2p94",
        "outputId": "055028a5-df7c-4620-f029-85f921d4210b"
      },
      "execution_count": null,
      "outputs": [
        {
          "output_type": "stream",
          "name": "stdout",
          "text": [
            "1\r\n",
            "24\r\n",
            "369\r\n",
            "481216\r\n",
            "510152025\r\n"
          ]
        }
      ]
    },
    {
      "cell_type": "code",
      "source": [
        "rows=8\n",
        "for i in range(1,rows+1):\n",
        "  for j in range(1,i+1):\n",
        "    sq=i*j\n",
        "    print(i*j,end=\" \")\n",
        "  print('\\r')"
      ],
      "metadata": {
        "colab": {
          "base_uri": "https://localhost:8080/"
        },
        "id": "RNCvZQ7P3P1E",
        "outputId": "76155f79-72ab-4311-8cdf-fe301123b061"
      },
      "execution_count": null,
      "outputs": [
        {
          "output_type": "stream",
          "name": "stdout",
          "text": [
            "1 \r\n",
            "2 4 \r\n",
            "3 6 9 \r\n",
            "4 8 12 16 \r\n",
            "5 10 15 20 25 \r\n",
            "6 12 18 24 30 36 \r\n",
            "7 14 21 28 35 42 49 \r\n",
            "8 16 24 32 40 48 56 64 \r\n"
          ]
        }
      ]
    },
    {
      "cell_type": "code",
      "source": [
        "rows=70\n",
        "for i in range(65,rows):\n",
        "  for j in range(65,i+1):\n",
        "    print(chr(i),end=\" \")\n",
        "  print(\" \")"
      ],
      "metadata": {
        "colab": {
          "base_uri": "https://localhost:8080/"
        },
        "id": "GahOh5i44ClW",
        "outputId": "de3057ca-fae1-4ed5-8a3d-94e466e68a85"
      },
      "execution_count": null,
      "outputs": [
        {
          "output_type": "stream",
          "name": "stdout",
          "text": [
            "A  \n",
            "B B  \n",
            "C C C  \n",
            "D D D D  \n",
            "E E E E E  \n"
          ]
        }
      ]
    },
    {
      "cell_type": "code",
      "source": [
        "# To find AREA and PERIMETER\n",
        "# Triangle AREA=1/2x b x h ,PERIMETER=a+b+c\n",
        "b = int(input('Enter b = ?'))\n",
        "h = int(input('Enter h= ?'))\n",
        "area = 0.5 * b * h\n",
        "print('AREA OF TRIANGLE =',area)\n",
        "# Triangle PERIMETER= a + b + c\n",
        "a = int(input('Enter a = ?'))\n",
        "b = int(input('Enter b = ?'))\n",
        "c = int(input('Enter c = ?'))\n",
        "perimeter=a*b*c\n",
        "print('PERIMETER OF TRIANGLE =',perimeter)"
      ],
      "metadata": {
        "colab": {
          "base_uri": "https://localhost:8080/"
        },
        "id": "6biBey5gma_p",
        "outputId": "ef1308f0-aeea-4ee0-d119-41056ac60e73"
      },
      "execution_count": null,
      "outputs": [
        {
          "output_type": "stream",
          "name": "stdout",
          "text": [
            "Enter b = ?5\n",
            "Enter h= ?6\n",
            "AREA OF TRIANGLE = 15.0\n",
            "Enter a = ?7\n",
            "Enter b = ?8\n",
            "Enter c = ?4\n",
            "PERIMETER OF TRIANGLE = 224\n"
          ]
        }
      ]
    },
    {
      "cell_type": "code",
      "source": [
        "for var in \"ABIT\":\n",
        "  if var==\"B\":\n",
        "    continue\n",
        "  print(var)"
      ],
      "metadata": {
        "colab": {
          "base_uri": "https://localhost:8080/"
        },
        "id": "3E2u9HEhqMUQ",
        "outputId": "7b597606-c90a-469c-f4b5-30d4329fe3c3"
      },
      "execution_count": null,
      "outputs": [
        {
          "output_type": "stream",
          "name": "stdout",
          "text": [
            "A\n",
            "I\n",
            "T\n"
          ]
        }
      ]
    },
    {
      "cell_type": "code",
      "source": [
        "for i in range(10):\n",
        "   print(i)\n",
        "   if i == 2:\n",
        "    break"
      ],
      "metadata": {
        "colab": {
          "base_uri": "https://localhost:8080/"
        },
        "id": "iXqnBx20r-ne",
        "outputId": "c4c7bc5e-cc04-4d45-e361-a8694a10a508"
      },
      "execution_count": null,
      "outputs": [
        {
          "output_type": "stream",
          "name": "stdout",
          "text": [
            "0\n",
            "1\n",
            "2\n"
          ]
        }
      ]
    },
    {
      "cell_type": "code",
      "source": [
        "x = abs(-7.25)\n",
        "print(x)\n"
      ],
      "metadata": {
        "colab": {
          "base_uri": "https://localhost:8080/"
        },
        "id": "576y1dKCtgga",
        "outputId": "fb580a6e-1fcb-48a8-bedd-b08021281997"
      },
      "execution_count": null,
      "outputs": [
        {
          "output_type": "stream",
          "name": "stdout",
          "text": [
            "7.25\n"
          ]
        }
      ]
    },
    {
      "cell_type": "code",
      "source": [
        "list = [0,2,2]\n",
        "a = all(list)\n",
        "print(a)"
      ],
      "metadata": {
        "colab": {
          "base_uri": "https://localhost:8080/"
        },
        "id": "GyccqqmUuvuB",
        "outputId": "e6d399e0-613e-4408-ab23-18f4adccbda5"
      },
      "execution_count": null,
      "outputs": [
        {
          "output_type": "stream",
          "name": "stdout",
          "text": [
            "False\n"
          ]
        }
      ]
    },
    {
      "cell_type": "code",
      "source": [
        "tuple = (0,1,False)\n",
        "a = any(tuple)\n",
        "print(a)"
      ],
      "metadata": {
        "colab": {
          "base_uri": "https://localhost:8080/"
        },
        "id": "9YH66e3Qu-QG",
        "outputId": "751bce84-e68f-4357-81fb-ef9fd1ca65a4"
      },
      "execution_count": null,
      "outputs": [
        {
          "output_type": "stream",
          "name": "stdout",
          "text": [
            "True\n"
          ]
        }
      ]
    },
    {
      "cell_type": "code",
      "source": [
        "a = ascii(\"Mostly Sane\")\n",
        "print(a)\n"
      ],
      "metadata": {
        "colab": {
          "base_uri": "https://localhost:8080/"
        },
        "id": "8Xu2XTH2vNaX",
        "outputId": "ff5608cf-74a0-4850-fc4c-7a74848677cf"
      },
      "execution_count": null,
      "outputs": [
        {
          "output_type": "stream",
          "name": "stdout",
          "text": [
            "'Mostly Sane'\n"
          ]
        }
      ]
    },
    {
      "cell_type": "code",
      "source": [
        "a = bin(30)\n",
        "print(a)"
      ],
      "metadata": {
        "colab": {
          "base_uri": "https://localhost:8080/"
        },
        "id": "7rot0v44vgra",
        "outputId": "91d41da6-9de7-4e5c-d88f-a010081811d0"
      },
      "execution_count": null,
      "outputs": [
        {
          "output_type": "stream",
          "name": "stdout",
          "text": [
            "0b11110\n"
          ]
        }
      ]
    },
    {
      "cell_type": "code",
      "source": [
        "a = bool(22)\n",
        "print(a)"
      ],
      "metadata": {
        "colab": {
          "base_uri": "https://localhost:8080/"
        },
        "id": "8wlR_xKjvo3z",
        "outputId": "23e3fee8-b9b8-4aa6-fa4e-748143544a05"
      },
      "execution_count": null,
      "outputs": [
        {
          "output_type": "stream",
          "name": "stdout",
          "text": [
            "True\n"
          ]
        }
      ]
    },
    {
      "cell_type": "code",
      "source": [
        "a = ('jhon','ann','sia')\n",
        "b = enumerate(a)\n",
        "print(b)"
      ],
      "metadata": {
        "colab": {
          "base_uri": "https://localhost:8080/"
        },
        "id": "reV9zK_5vvIi",
        "outputId": "7e54f7ff-09ff-49d2-9acc-869deed005e9"
      },
      "execution_count": null,
      "outputs": [
        {
          "output_type": "stream",
          "name": "stdout",
          "text": [
            "<enumerate object at 0x7d5bfe7778c0>\n"
          ]
        }
      ]
    },
    {
      "cell_type": "code",
      "source": [
        "class Student:\n",
        " name = \"Ann\"\n",
        " age = 28\n",
        " country = \"USA\"\n",
        "x = getattr(Student,'age')\n",
        "print(x)"
      ],
      "metadata": {
        "colab": {
          "base_uri": "https://localhost:8080/"
        },
        "id": "9-AyMvd-wPgX",
        "outputId": "20365120-9264-4f6b-f413-479c04b60ebc"
      },
      "execution_count": null,
      "outputs": [
        {
          "output_type": "stream",
          "name": "stdout",
          "text": [
            "28\n"
          ]
        }
      ]
    },
    {
      "cell_type": "code",
      "source": [
        "a = dict(name=\"Jaydon\",mob=1834567,country=\"Canada\")\n",
        "print(a)"
      ],
      "metadata": {
        "colab": {
          "base_uri": "https://localhost:8080/"
        },
        "id": "z58cfOc40Z5Y",
        "outputId": "60dcd8be-6c11-4868-b5ad-aa38b3bb87e8"
      },
      "execution_count": null,
      "outputs": [
        {
          "output_type": "stream",
          "name": "stdout",
          "text": [
            "{'name': 'Jaydon', 'mob': 1834567, 'country': 'Canada'}\n"
          ]
        }
      ]
    },
    {
      "cell_type": "code",
      "source": [
        "class User:\n",
        "  name=\"Jaydon\"\n",
        "  mob=1543678\n",
        "  country=\"Canada\"\n",
        "print(dir(User))"
      ],
      "metadata": {
        "colab": {
          "base_uri": "https://localhost:8080/"
        },
        "id": "3aJfMMrs14Rt",
        "outputId": "2c240064-8f78-4ba6-dda0-080150d86303"
      },
      "execution_count": null,
      "outputs": [
        {
          "output_type": "stream",
          "name": "stdout",
          "text": [
            "['__class__', '__delattr__', '__dict__', '__dir__', '__doc__', '__eq__', '__format__', '__ge__', '__getattribute__', '__gt__', '__hash__', '__init__', '__init_subclass__', '__le__', '__lt__', '__module__', '__ne__', '__new__', '__reduce__', '__reduce_ex__', '__repr__', '__setattr__', '__sizeof__', '__str__', '__subclasshook__', '__weakref__', 'country', 'mob', 'name']\n"
          ]
        }
      ]
    },
    {
      "cell_type": "code",
      "source": [
        "a=globals()\n",
        "print(a)"
      ],
      "metadata": {
        "colab": {
          "base_uri": "https://localhost:8080/"
        },
        "id": "jH8DBMid2Tyk",
        "outputId": "57b3be5e-f719-46d3-c868-4764c6ccc993"
      },
      "execution_count": null,
      "outputs": [
        {
          "output_type": "stream",
          "name": "stdout",
          "text": [
            "{'__name__': '__main__', '__doc__': 'Automatically created module for IPython interactive environment', '__package__': None, '__loader__': None, '__spec__': None, '__builtin__': <module 'builtins' (built-in)>, '__builtins__': <module 'builtins' (built-in)>, '_ih': ['', \"a = dict('name':'Jaydon','mob':1834567,'country':'Canada')\\nprint(a)\", \"a = dict('name': 'Jaydon','mob': 1834567,'country': 'Canada')\\nprint(a)\", 'a = dict(name:\"Jaydon\",mob: 1834567,country:\"Canada\")\\nprint(a)', 'a = dict(name=\"Jaydon\",mob=1834567,country=\"Canada\")\\nprint(a)', 'class User:\\n  name=\"Jaydon\"\\n  mob=1543678\\n  country=\"Canada\"\\n  print(dir(User))', 'class User:\\n  name=\"Jaydon\"\\n  mob=1543678\\n  country=\"Canada\"\\nprint(dir(User))', 'a=globals()\\nprint(a)'], '_oh': {}, '_dh': ['/content'], 'In': ['', \"a = dict('name':'Jaydon','mob':1834567,'country':'Canada')\\nprint(a)\", \"a = dict('name': 'Jaydon','mob': 1834567,'country': 'Canada')\\nprint(a)\", 'a = dict(name:\"Jaydon\",mob: 1834567,country:\"Canada\")\\nprint(a)', 'a = dict(name=\"Jaydon\",mob=1834567,country=\"Canada\")\\nprint(a)', 'class User:\\n  name=\"Jaydon\"\\n  mob=1543678\\n  country=\"Canada\"\\n  print(dir(User))', 'class User:\\n  name=\"Jaydon\"\\n  mob=1543678\\n  country=\"Canada\"\\nprint(dir(User))', 'a=globals()\\nprint(a)'], 'Out': {}, 'get_ipython': <bound method InteractiveShell.get_ipython of <google.colab._shell.Shell object at 0x7c19c75638e0>>, 'exit': <IPython.core.autocall.ZMQExitAutocall object at 0x7c19c7563e80>, 'quit': <IPython.core.autocall.ZMQExitAutocall object at 0x7c19c7563e80>, '_': '', '__': '', '___': '', '_i': 'class User:\\n  name=\"Jaydon\"\\n  mob=1543678\\n  country=\"Canada\"\\nprint(dir(User))', '_ii': 'class User:\\n  name=\"Jaydon\"\\n  mob=1543678\\n  country=\"Canada\"\\n  print(dir(User))', '_iii': 'a = dict(name=\"Jaydon\",mob=1834567,country=\"Canada\")\\nprint(a)', '_i1': \"a = dict('name':'Jaydon','mob':1834567,'country':'Canada')\\nprint(a)\", '_i2': \"a = dict('name': 'Jaydon','mob': 1834567,'country': 'Canada')\\nprint(a)\", '_i3': 'a = dict(name:\"Jaydon\",mob: 1834567,country:\"Canada\")\\nprint(a)', '_i4': 'a = dict(name=\"Jaydon\",mob=1834567,country=\"Canada\")\\nprint(a)', 'a': {...}, '_i5': 'class User:\\n  name=\"Jaydon\"\\n  mob=1543678\\n  country=\"Canada\"\\n  print(dir(User))', '_i6': 'class User:\\n  name=\"Jaydon\"\\n  mob=1543678\\n  country=\"Canada\"\\nprint(dir(User))', 'User': <class '__main__.User'>, '_i7': 'a=globals()\\nprint(a)'}\n"
          ]
        }
      ]
    },
    {
      "cell_type": "code",
      "source": [
        "a=format(1.5,'%')\n",
        "print(a)"
      ],
      "metadata": {
        "colab": {
          "base_uri": "https://localhost:8080/"
        },
        "id": "OniiQjbX2rfs",
        "outputId": "642f2321-fa0a-4257-8ede-227b92ebd9ca"
      },
      "execution_count": null,
      "outputs": [
        {
          "output_type": "stream",
          "name": "stdout",
          "text": [
            "150.000000%\n"
          ]
        }
      ]
    },
    {
      "cell_type": "code",
      "source": [
        "score=[15,10,20,17,26,42]\n",
        "def customFunc(a):\n",
        "  if a<20:\n",
        "   return False\n",
        "  else:\n",
        "    return True\n",
        "players=filter(customFunc,score)\n",
        "for a in players:\n",
        " print(a)"
      ],
      "metadata": {
        "colab": {
          "base_uri": "https://localhost:8080/"
        },
        "id": "SBVditT1229Z",
        "outputId": "e921099a-3e4a-48c2-d56d-240ac69f426f"
      },
      "execution_count": null,
      "outputs": [
        {
          "output_type": "stream",
          "name": "stdout",
          "text": [
            "20\n",
            "26\n",
            "42\n"
          ]
        }
      ]
    },
    {
      "cell_type": "code",
      "source": [
        "class speed:\n",
        "  kmph=136\n",
        "class car(speed):\n",
        "  name=\"BMW\"\n",
        "  speed=speed\n",
        "x=issubclass(car,speed)\n",
        "print(x)\n"
      ],
      "metadata": {
        "colab": {
          "base_uri": "https://localhost:8080/"
        },
        "id": "_L9cAQQW4SM2",
        "outputId": "f5e4342e-b509-4dcd-f5d5-d0394c0035ca"
      },
      "execution_count": null,
      "outputs": [
        {
          "output_type": "stream",
          "name": "stdout",
          "text": [
            "True\n"
          ]
        }
      ]
    },
    {
      "cell_type": "code",
      "source": [
        "x=iter([\"jhon\",\"lisa\",\"maria\",\"ava\"])\n",
        "print(next(x))\n",
        "print(next(x))\n",
        "print(next(x))\n",
        "print(next(x))"
      ],
      "metadata": {
        "colab": {
          "base_uri": "https://localhost:8080/"
        },
        "id": "2UFviKUe5UxQ",
        "outputId": "5eb6eb01-fd41-47d7-d1ba-df309faeb0a1"
      },
      "execution_count": null,
      "outputs": [
        {
          "output_type": "stream",
          "name": "stdout",
          "text": [
            "jhon\n",
            "lisa\n",
            "maria\n",
            "ava\n"
          ]
        }
      ]
    },
    {
      "cell_type": "code",
      "source": [
        "a=bytes(22)\n",
        "print(a)"
      ],
      "metadata": {
        "colab": {
          "base_uri": "https://localhost:8080/"
        },
        "id": "lbQCuIHh57v5",
        "outputId": "116bd7f6-e841-455b-9b2c-9853e7082037"
      },
      "execution_count": null,
      "outputs": [
        {
          "output_type": "stream",
          "name": "stdout",
          "text": [
            "b'\\x00\\x00\\x00\\x00\\x00\\x00\\x00\\x00\\x00\\x00\\x00\\x00\\x00\\x00\\x00\\x00\\x00\\x00\\x00\\x00\\x00\\x00'\n"
          ]
        }
      ]
    },
    {
      "cell_type": "code",
      "source": [
        "a=compile('print(45)','test','eval')\n",
        "exec(a)"
      ],
      "metadata": {
        "colab": {
          "base_uri": "https://localhost:8080/"
        },
        "id": "bBbvBFK26DKc",
        "outputId": "766a9d0b-513a-49e8-9054-53623777968a"
      },
      "execution_count": null,
      "outputs": [
        {
          "output_type": "stream",
          "name": "stdout",
          "text": [
            "45\n"
          ]
        }
      ]
    },
    {
      "cell_type": "code",
      "source": [
        "# User defined Function\n",
        "def show():\n",
        "  print('HELLO CSE')\n",
        "show()"
      ],
      "metadata": {
        "colab": {
          "base_uri": "https://localhost:8080/"
        },
        "id": "lB8vbqn7zB9W",
        "outputId": "0be7d988-8967-4229-9065-cd8aa6d14080"
      },
      "execution_count": null,
      "outputs": [
        {
          "output_type": "stream",
          "name": "stdout",
          "text": [
            "HELLO CSE\n"
          ]
        }
      ]
    },
    {
      "cell_type": "code",
      "source": [
        "# Passing Parameters in User Defined Function\n",
        "def ADD(a,b):\n",
        "  c=a+b\n",
        "  print('SUM OF TWO NUMBERS=',c)\n",
        "ADD(10,20)"
      ],
      "metadata": {
        "colab": {
          "base_uri": "https://localhost:8080/"
        },
        "id": "FywqgZaTzuzH",
        "outputId": "ad2c2c90-e1b2-4665-cfb4-406b7aa68c15"
      },
      "execution_count": null,
      "outputs": [
        {
          "output_type": "stream",
          "name": "stdout",
          "text": [
            "SUM OF TWO NUMBERS= 30\n"
          ]
        }
      ]
    },
    {
      "cell_type": "code",
      "source": [
        "# Passing Parameters in User Defined Function Using KEYBOARD\n",
        "def ADD(a,b):\n",
        "  c=a+b\n",
        "  print('SUM OF TWO NUMBERS=',c)\n",
        "ADD(10,20)\n",
        "p=int(input(\"Enter 1st no.= ?\"))\n",
        "q=int(input(\"Enter 2nd no.= ?\"))\n",
        "ADD(p,q)"
      ],
      "metadata": {
        "colab": {
          "base_uri": "https://localhost:8080/"
        },
        "id": "gVNuAi4H0kKG",
        "outputId": "59ef5168-f3cd-4828-8732-5757fe8d9322"
      },
      "execution_count": null,
      "outputs": [
        {
          "output_type": "stream",
          "name": "stdout",
          "text": [
            "SUM OF TWO NUMBERS= 30\n",
            "Enter 1st no.= ?40\n",
            "Enter 2nd no.= ?50\n",
            "SUM OF TWO NUMBERS= 90\n"
          ]
        }
      ]
    },
    {
      "cell_type": "code",
      "source": [
        "# Using Return Statement in User Defined Function.\n",
        "def sumofn(n):\n",
        "  s=0\n",
        "  for i in range(1,n+1):\n",
        "    s=s+i\n",
        "  return(s)\n",
        "m=int(input(\"Enter n value= ?\"))\n",
        "print('Sum of N=',sumofn(m))\n"
      ],
      "metadata": {
        "colab": {
          "base_uri": "https://localhost:8080/"
        },
        "id": "o7W3l8pk1oc0",
        "outputId": "199b7494-95ed-472d-a817-79828299381d"
      },
      "execution_count": null,
      "outputs": [
        {
          "output_type": "stream",
          "name": "stdout",
          "text": [
            "Enter n value= ?6\n",
            "Sum of N= 21\n"
          ]
        }
      ]
    },
    {
      "cell_type": "code",
      "source": [
        "def star(p,q):\n",
        " number=1\n",
        " for i in range(1,p):\n",
        "    for j in range(1,q):\n",
        "      if(j<=i):\n",
        "         print(number,end=\" \")\n",
        "         number+=1\n",
        "    print()\n",
        "\n",
        "\n",
        "m=int(input('Enter the no.for row= ?'))\n",
        "n=int(input('Enter the no. for column= ?'))\n",
        "star(m,n)\n"
      ],
      "metadata": {
        "colab": {
          "base_uri": "https://localhost:8080/"
        },
        "id": "UZCjDYjW3HCU",
        "outputId": "a254a0b0-056e-47fe-b72f-6b19ec22fd3d"
      },
      "execution_count": null,
      "outputs": [
        {
          "output_type": "stream",
          "name": "stdout",
          "text": [
            "Enter the no.for row= ?5\n",
            "Enter the no. for column= ?4\n",
            "1 \n",
            "2 3 \n",
            "4 5 6 \n",
            "7 8 9 \n"
          ]
        }
      ]
    },
    {
      "cell_type": "code",
      "source": [
        "list=['P','Y','T','H','O','N']\n",
        "print(list)\n",
        "print(list[2:6])\n",
        "print(list[:4])\n",
        "print(list[4:])"
      ],
      "metadata": {
        "colab": {
          "base_uri": "https://localhost:8080/"
        },
        "id": "SZg0UQuJ__Sv",
        "outputId": "74225c82-e517-4cbb-beea-c9fa93d87b42"
      },
      "execution_count": null,
      "outputs": [
        {
          "output_type": "stream",
          "name": "stdout",
          "text": [
            "['P', 'Y', 'T', 'H', 'O', 'N']\n",
            "['T', 'H', 'O', 'N']\n",
            "['P', 'Y', 'T', 'H']\n",
            "['O', 'N']\n"
          ]
        }
      ]
    },
    {
      "cell_type": "code",
      "source": [
        "list=[10,20,30,40,50,60,70,80,90]\n",
        "print(list[2:6])"
      ],
      "metadata": {
        "colab": {
          "base_uri": "https://localhost:8080/"
        },
        "id": "ar-Qij1wA_Hy",
        "outputId": "844e6519-85f3-4766-9a7c-612403286f88"
      },
      "execution_count": null,
      "outputs": [
        {
          "output_type": "stream",
          "name": "stdout",
          "text": [
            "[30, 40, 50, 60]\n"
          ]
        }
      ]
    },
    {
      "cell_type": "code",
      "source": [
        "# Triangle Area\n",
        "b=int(input('Enter b:'))\n",
        "h=int(input('Enter h:'))\n",
        "area=0.5*b*h\n",
        "print('Area of triangle is=',area)\n",
        "# Triangle perimeter\n",
        "a=int(input('Enter a:'))\n",
        "b=int(input('Enter b:'))\n",
        "c=int(input('Enter c:'))\n",
        "perimeter=a*b*c\n",
        "print('perimeter of a triangle is=',perimeter)"
      ],
      "metadata": {
        "colab": {
          "base_uri": "https://localhost:8080/"
        },
        "id": "pYO9MQZ6TF3F",
        "outputId": "6683a814-2b7e-47af-d19d-aae7f50eaabe"
      },
      "execution_count": null,
      "outputs": [
        {
          "output_type": "stream",
          "name": "stdout",
          "text": [
            "Enter b:5\n",
            "Enter h:6\n",
            "Area of triangle is= 15.0\n",
            "Enter a:8\n",
            "Enter b:9\n",
            "Enter c:4\n",
            "perimeter of a triangle is= 288\n"
          ]
        }
      ]
    },
    {
      "cell_type": "code",
      "source": [
        "# Rectangle Area\n",
        "l=int(input('Enter l:'))\n",
        "b=int(input('Enter b:'))\n",
        "area=l*b\n",
        "print('Area of rectangle is=',area)\n",
        "# Rectangle perimeter\n",
        "l=int(input('Enter l:'))\n",
        "b=int(input('Enter b:'))\n",
        "perimeter=2*(l+b)\n",
        "print('Perimeter of rectangle=',perimeter)\n"
      ],
      "metadata": {
        "colab": {
          "base_uri": "https://localhost:8080/"
        },
        "id": "h3w75NPvU6qR",
        "outputId": "f92b0cdd-eaa2-4124-fe0b-a43955f0a63e"
      },
      "execution_count": null,
      "outputs": [
        {
          "output_type": "stream",
          "name": "stdout",
          "text": [
            "Enter l:8\n",
            "Enter b:9\n",
            "Area of rectangle is= 72\n",
            "Enter l:34\n",
            "Enter b:45\n",
            "Perimeter of rectangle= 158\n"
          ]
        }
      ]
    },
    {
      "cell_type": "code",
      "source": [
        "# square Area\n",
        "s1=int(input('Enter s1:'))\n",
        "s2=int(input('Enter s2:'))\n",
        "area=s1*s2\n",
        "print('Area of square is=',area)\n",
        "# square perimeter\n",
        "s=int(input('Enter s:'))\n",
        "perimeter=4*s\n",
        "print('Perimeter of square=',perimeter)\n"
      ],
      "metadata": {
        "colab": {
          "base_uri": "https://localhost:8080/"
        },
        "id": "DVOOEY66W3OJ",
        "outputId": "1b240b09-e59a-4b61-b036-6cbf93955f47"
      },
      "execution_count": null,
      "outputs": [
        {
          "output_type": "stream",
          "name": "stdout",
          "text": [
            "Enter s1:45\n",
            "Enter s2:67\n",
            "Area of square is= 3015\n",
            "Enter s:89\n",
            "Perimeter of square= 356\n"
          ]
        }
      ]
    },
    {
      "cell_type": "code",
      "source": [
        "# Circle Area\n",
        "r=int(input('Enter r:'))\n",
        "area=3.14*r*r\n",
        "print('Area of circle is=',area)\n",
        "# circle perimeter\n",
        "r=int(input('enter r:'))\n",
        "perimeter=2*3.14*r\n",
        "print('Perimeter of circle is=',perimeter)"
      ],
      "metadata": {
        "colab": {
          "base_uri": "https://localhost:8080/"
        },
        "id": "GnyPEVYeZU2X",
        "outputId": "ff493ce3-f0be-4904-d227-7b515eca72b5"
      },
      "execution_count": null,
      "outputs": [
        {
          "output_type": "stream",
          "name": "stdout",
          "text": [
            "Enter r:6\n",
            "Area of circle is= 113.03999999999999\n",
            "enter r:8\n",
            "Perimeter of circle is= 50.24\n"
          ]
        }
      ]
    },
    {
      "cell_type": "code",
      "source": [
        "# Ellipse Area\n",
        "b=int(input('Enter b:'))\n",
        "area=3.14*b\n",
        "print('Area of ellipse is=',area)\n",
        "# Ellipse perimeter\n",
        "a=int(input('Enter a:'))\n",
        "b=int(input('Enter b:'))\n",
        "perimeter=3.14*(a+b)\n",
        "print('Perimeter of ellipse is=',perimeter)\n"
      ],
      "metadata": {
        "colab": {
          "base_uri": "https://localhost:8080/"
        },
        "id": "1wvo5f-Mdj1l",
        "outputId": "cc281858-e1b1-4c72-f6b8-5ffe0ac71faa"
      },
      "execution_count": null,
      "outputs": [
        {
          "output_type": "stream",
          "name": "stdout",
          "text": [
            "Enter b:8\n",
            "Area of ellipse is= 25.12\n",
            "Enter a:5\n",
            "Enter b:7\n",
            "Perimeter of ellipse is= 37.68\n"
          ]
        }
      ]
    },
    {
      "cell_type": "code",
      "source": [
        "# Parallelogram Area\n",
        "b=int(input('Enter b:'))\n",
        "h=int(input('Enter h:'))\n",
        "Area=b*h\n",
        "print('Area of parallelogram is=',area)\n",
        "# Parallelogram Perimeter\n",
        "a=int(input('Enter a:'))\n",
        "b=int(input('Enter b:'))\n",
        "perimeter=2*(a+b)\n",
        "print('Perimeter of parallelogram=',perimeter)"
      ],
      "metadata": {
        "colab": {
          "base_uri": "https://localhost:8080/"
        },
        "id": "Hb4kanUAl1K0",
        "outputId": "8d1de5df-f251-4aa7-f0af-f7fe603067ce"
      },
      "execution_count": null,
      "outputs": [
        {
          "output_type": "stream",
          "name": "stdout",
          "text": [
            "Enter b:9\n",
            "Enter h:4\n",
            "Area of parallelogram is= 25.12\n",
            "Enter a:8\n",
            "Enter b:6\n",
            "Perimeter of parallelogram= 28\n"
          ]
        }
      ]
    },
    {
      "cell_type": "code",
      "source": [
        "# Rhombus Area\n",
        "d1=int(input('Enter d1:'))\n",
        "d2=int(input('Enter d2:'))\n",
        "Area=1/2*(d1*d2)\n",
        "print('Area of rhombus=',area)\n",
        "# Rhombus Perimeter\n",
        "a=int(input('Enter a:'))\n",
        "Perimeter=4*a\n",
        "print('Perimeter of rhombus=',perimeter)\n"
      ],
      "metadata": {
        "colab": {
          "base_uri": "https://localhost:8080/"
        },
        "id": "z6MjvzjRwNMp",
        "outputId": "0c9d76e2-bc61-407a-bb41-8317efe95e96"
      },
      "execution_count": null,
      "outputs": [
        {
          "output_type": "stream",
          "name": "stdout",
          "text": [
            "Enter d1:3\n",
            "Enter d2:8\n",
            "Area of rhombus= 25.12\n",
            "Enter a:6\n",
            "Perimeter of rhombus= 28\n"
          ]
        }
      ]
    },
    {
      "cell_type": "code",
      "source": [
        "# Trapezium Area\n",
        "a=int(input('Enter a:'))\n",
        "b=int(input('Enter b:'))\n",
        "h=int(input('Enter h:'))\n",
        "Area=1/2*(a+b)*h\n",
        "print('Area of trapezium is=',area)\n",
        "# Trapezium perimeter\n",
        "a=int(input('Enter a:'))\n",
        "b=int(input('Enter b:'))\n",
        "c=int(input('Enter c:'))\n",
        "d=int(input('Enter d:'))\n",
        "perimeter=a+b+c+d\n",
        "print('Perimeter of trapezium is=',perimeter)"
      ],
      "metadata": {
        "colab": {
          "base_uri": "https://localhost:8080/"
        },
        "id": "YWFrCdshxeQA",
        "outputId": "10acf64a-0e9a-4d3d-a367-6a6f66642719"
      },
      "execution_count": null,
      "outputs": [
        {
          "output_type": "stream",
          "name": "stdout",
          "text": [
            "Enter a:9\n",
            "Enter b:8\n",
            "Enter h:6\n",
            "Area of trapezium is= 25.12\n",
            "Enter a:8\n",
            "Enter b:9\n",
            "Enter c:4\n",
            "Enter d:6\n",
            "Perimeter of trapezium is= 27\n"
          ]
        }
      ]
    },
    {
      "cell_type": "code",
      "source": [
        "# Cube volume\n",
        "s=int(input('Enter s:'))\n",
        "volume=s*s*s\n",
        "print('Volume of a cube is=',volume)\n",
        "# Cube surface area\n",
        "s=int(input('Enter s:'))\n",
        "surface_area=6*s*s\n",
        "print('surface area of a cube is=',surface_area)"
      ],
      "metadata": {
        "colab": {
          "base_uri": "https://localhost:8080/"
        },
        "id": "wbuAM9kf7KtN",
        "outputId": "4d8ebe7e-14ec-4123-c882-c86f5a99a065"
      },
      "execution_count": null,
      "outputs": [
        {
          "output_type": "stream",
          "name": "stdout",
          "text": [
            "Enter s:56\n",
            "Volume of a cube is= 175616\n",
            "Enter s:45\n",
            "surface area of a cube is= 12150\n"
          ]
        }
      ]
    },
    {
      "cell_type": "code",
      "source": [
        "# Cuboid volume\n",
        "l=int(input('Enter l:'))\n",
        "w=int(input('Enter w:'))\n",
        "h=int(input('Enter h:'))\n",
        "volume=l*w*h\n",
        "print('volume of cuboid is=',volume)\n",
        "# Cuboid surface area\n",
        "l=int(input('Enter l:'))\n",
        "w=int(input('Enter w:'))\n",
        "h=int(input('Enter h:'))\n",
        "surface_area=(2*l*h)+(2*l*w)+(2*w*h)\n",
        "print('surface area of cuboid is=',surface_area)"
      ],
      "metadata": {
        "colab": {
          "base_uri": "https://localhost:8080/"
        },
        "id": "acmWq8y48bh0",
        "outputId": "7e7702d6-75d4-43d7-a062-0e214a2debba"
      },
      "execution_count": null,
      "outputs": [
        {
          "output_type": "stream",
          "name": "stdout",
          "text": [
            "Enter l:3\n",
            "Enter w:8\n",
            "Enter h:5\n",
            "volume of cuboid is= 120\n",
            "Enter l:6\n",
            "Enter w:9\n",
            "Enter h:8\n",
            "surface area of cuboid is= 348\n"
          ]
        }
      ]
    },
    {
      "cell_type": "code",
      "source": [
        "# Regular tetrahedron volume\n",
        "import math\n",
        "b=int(input('Enter b:'))\n",
        "volume=(b*b*b)/(6*math.sqrt(2))\n",
        "print('volume of a regular tetrahedron is=',volume)\n",
        "#Regular tetrahedron surface area\n",
        "b=int(input('Enter b:'))\n",
        "surface_area=math.sqrt(3)*b*b\n",
        "print('surface area of regular tetrahedron is=',surface_area)"
      ],
      "metadata": {
        "colab": {
          "base_uri": "https://localhost:8080/"
        },
        "id": "QuXIKqe49wJK",
        "outputId": "ec9b4234-859e-4f9f-96a7-fb93cf50841b"
      },
      "execution_count": null,
      "outputs": [
        {
          "output_type": "stream",
          "name": "stdout",
          "text": [
            "Enter b:5\n",
            "volume of a regular tetrahedron is= 14.731391274719739\n",
            "Enter b:8\n",
            "surface area of regular tetrahedron is= 110.85125168440814\n"
          ]
        }
      ]
    },
    {
      "cell_type": "code",
      "source": [
        "# Pyramids volume\n",
        "a=int(input('Enter a:'))\n",
        "h=int(input('Enter h:'))\n",
        "volume=0.3*a*h\n",
        "print('volume of a pyramid is=',volume)"
      ],
      "metadata": {
        "colab": {
          "base_uri": "https://localhost:8080/"
        },
        "id": "swAZplFU_NbM",
        "outputId": "aaad85e2-862f-47fa-f9fa-c1fb78e947fb"
      },
      "execution_count": null,
      "outputs": [
        {
          "output_type": "stream",
          "name": "stdout",
          "text": [
            "Enter a:8\n",
            "Enter h:9\n",
            "volume of a pyramid is= 21.599999999999998\n"
          ]
        }
      ]
    },
    {
      "cell_type": "code",
      "source": [
        "# Square pyramid volume\n",
        "s=int(input('Enter s:'))\n",
        "h=int(input('Enter h:'))\n",
        "volume=1/3*s*s*h\n",
        "print('volume of a square pyramid is=',volume)\n",
        "# Square Pyramid surafce area\n",
        "s=int(input('Enter s:'))\n",
        "h=int(input('Enter h:'))\n",
        "surface_area=(s*s)+(2*s*h)\n",
        "print('Surface area of a square pyramid is=',surface_area)"
      ],
      "metadata": {
        "colab": {
          "base_uri": "https://localhost:8080/"
        },
        "id": "si7AH6yg_xhK",
        "outputId": "7a0f4de0-5e70-46fe-bbec-218c4d587e0f"
      },
      "execution_count": null,
      "outputs": [
        {
          "output_type": "stream",
          "name": "stdout",
          "text": [
            "Enter s:8\n",
            "Enter h:7\n",
            "volume of a square pyramid is= 149.33333333333331\n",
            "Enter s:9\n",
            "Enter h:5\n",
            "Surface area of a square pyramid is= 171\n"
          ]
        }
      ]
    },
    {
      "cell_type": "code",
      "source": [
        "# prisms volume\n",
        "a=int(input('Enter a:'))\n",
        "h=int(input('Enter h:'))\n",
        "volume=a*h\n",
        "print('volume of a prism is=',volume)\n",
        "# Prisms surface area\n",
        "a=int(input('Enter a:'))\n",
        "h=int(input('Enter h:'))\n",
        "p=int(input('Enter p:'))\n",
        "surface_area=2*a+(h*p)\n",
        "print('surface area of a prism is=',surface_area)"
      ],
      "metadata": {
        "colab": {
          "base_uri": "https://localhost:8080/"
        },
        "id": "VX86rZkTA80v",
        "outputId": "ca26d18c-6ae0-4d51-86ff-f5522ba2e3f6"
      },
      "execution_count": null,
      "outputs": [
        {
          "output_type": "stream",
          "name": "stdout",
          "text": [
            "Enter a:8\n",
            "Enter h:9\n",
            "volume of a prism is= 72\n",
            "Enter a:7\n",
            "Enter h:5\n",
            "Enter p:4\n",
            "surface area of a prism is= 34\n"
          ]
        }
      ]
    },
    {
      "cell_type": "code",
      "source": [
        "# Triangular prism volume\n",
        "l=int(input('Enter l:'))\n",
        "b=int(input('Enter b:'))\n",
        "h=int(input('Enter h:'))\n",
        "volume=l*b*h\n",
        "print('volume of a triangular prsim is=',volume)\n",
        "# Triangular prism surface area\n",
        "l=int(input('Enter l:'))\n",
        "b=int(input('Enter b:'))\n",
        "h=int(input('Enter h:'))\n",
        "s=int(input('Enter s:'))\n",
        "surface_area=(b*h)+(2*l*s)+(l*b)\n",
        "print('surface area of a tringular prism is',surface_area)"
      ],
      "metadata": {
        "colab": {
          "base_uri": "https://localhost:8080/"
        },
        "id": "UWKTXPCGBwkU",
        "outputId": "ead79101-5905-439d-b55c-c644e5f9371f"
      },
      "execution_count": null,
      "outputs": [
        {
          "output_type": "stream",
          "name": "stdout",
          "text": [
            "Enter l:6\n",
            "Enter b:9\n",
            "Enter h:7\n",
            "volume of a triangular prsim is= 378\n",
            "Enter l:8\n",
            "Enter b:4\n",
            "Enter h:3\n",
            "Enter s:5\n",
            "surface area of a tringular prism is 124\n"
          ]
        }
      ]
    },
    {
      "cell_type": "code",
      "source": [
        "# Spheres volume\n",
        "n=int(input('Enter n:'))\n",
        "r=int(input('Enter r:'))\n",
        "volume=4/3*(n*r*r*r)\n",
        "print('volume of a sphere is=',volume)\n",
        "# Spheres surface area\n",
        "n=int(input('Enter n:'))\n",
        "r=int(input('Enter r:'))\n",
        "surface_area=4*n*r*r\n",
        "print('surface area of a sphere is=',surface_area)"
      ],
      "metadata": {
        "colab": {
          "base_uri": "https://localhost:8080/"
        },
        "id": "6gr2GCelDDp5",
        "outputId": "e19dd99c-6314-4849-d434-61f305d24a4b"
      },
      "execution_count": null,
      "outputs": [
        {
          "output_type": "stream",
          "name": "stdout",
          "text": [
            "Enter n:6\n",
            "Enter r:9\n",
            "volume of a sphere is= 5832.0\n",
            "Enter n:8\n",
            "Enter r:5\n",
            "surface area of a sphere is= 800\n"
          ]
        }
      ]
    },
    {
      "cell_type": "code",
      "source": [
        "# Right circular cone volume\n",
        "n=int(input('Enter n:'))\n",
        "r=int(input('Enter r:'))\n",
        "h=int(input('Enter h:'))\n",
        "volume=1/3*(n*r*r*h)\n",
        "print('volume of a right circular cone is=',volume)\n",
        "# Right circular cone surface area\n",
        "n=int(input('Enter n:'))\n",
        "r=int(input('Enter r:'))\n",
        "s=int(input('Enter s:'))\n",
        "surface_area=n*r*(r+s)\n",
        "print('Surface area of a right circular cone is=',surface_area)"
      ],
      "metadata": {
        "colab": {
          "base_uri": "https://localhost:8080/"
        },
        "id": "6E9OB2SLD2ET",
        "outputId": "ed3f00c8-3adc-4136-98c9-c41170a97c65"
      },
      "execution_count": null,
      "outputs": [
        {
          "output_type": "stream",
          "name": "stdout",
          "text": [
            "Enter n:6\n",
            "Enter r:7\n",
            "Enter h:9\n",
            "volume of a right circular cone is= 882.0\n",
            "Enter n:7\n",
            "Enter r:6\n",
            "Enter s:4\n",
            "Surface area of a right circular cone is= 420\n"
          ]
        }
      ]
    },
    {
      "cell_type": "code",
      "source": [
        "# Right cylinder volume\n",
        "n=int(input('Enter n:'))\n",
        "r=int(input('Enter r:'))\n",
        "h=int(input('Enter h:'))\n",
        "volume=n*r*r*h\n",
        "print('volume of a right cylinder is=',volume)\n",
        "# Right cylinder Surface area\n",
        "n=int(input('Enter n:'))\n",
        "r=int(input('Enter r:'))\n",
        "h=int(input('Enter h:'))\n",
        "surface_area=2*n*r*(r+h)\n",
        "print('surface area of a right cylinder is=',surface_area)"
      ],
      "metadata": {
        "colab": {
          "base_uri": "https://localhost:8080/"
        },
        "id": "GuZ161P0E3tK",
        "outputId": "47d88952-bff7-49ac-98fe-929f94f75e89"
      },
      "execution_count": null,
      "outputs": [
        {
          "output_type": "stream",
          "name": "stdout",
          "text": [
            "Enter n:9\n",
            "Enter r:6\n",
            "Enter h:4\n",
            "volume of a right cylinder is= 1296\n",
            "Enter n:8\n",
            "Enter r:5\n",
            "Enter h:3\n",
            "surface area of a right cylinder is= 640\n"
          ]
        }
      ]
    },
    {
      "cell_type": "code",
      "source": [
        "# Swapping without using third variable\n",
        "x=43\n",
        "y=67\n",
        "print('After swapping')\n",
        "print('Value of x:',y)\n",
        "print('Value of y:',x)"
      ],
      "metadata": {
        "colab": {
          "base_uri": "https://localhost:8080/"
        },
        "id": "Af51EHnpHOS4",
        "outputId": "a525817e-0a0a-4556-e278-86845e80feb2"
      },
      "execution_count": null,
      "outputs": [
        {
          "output_type": "stream",
          "name": "stdout",
          "text": [
            "After swapping\n",
            "Value of x: 67\n",
            "Value of y: 43\n"
          ]
        }
      ]
    },
    {
      "cell_type": "code",
      "source": [
        "# Swapping using third variable\n",
        "x=89\n",
        "y=78\n",
        "temp=x\n",
        "x=y\n",
        "y=temp\n",
        "print('After swapping')\n",
        "print('Value of x:',x)\n",
        "print('Value of y:',y)\n"
      ],
      "metadata": {
        "colab": {
          "base_uri": "https://localhost:8080/"
        },
        "id": "icjLOjhhH2s4",
        "outputId": "e950345b-07f8-4352-8361-1e71cfd25cfb"
      },
      "execution_count": null,
      "outputs": [
        {
          "output_type": "stream",
          "name": "stdout",
          "text": [
            "After swapping\n",
            "Value of x: 78\n",
            "Value of y: 89\n"
          ]
        }
      ]
    },
    {
      "cell_type": "code",
      "source": [
        "# Reverse without using loop\n",
        "rev=0\n",
        "base=1;\n",
        "def reverse(num):\n",
        " global rev\n",
        " global base\n",
        " if(num>0):\n",
        "  reverse((int)(num/10))\n",
        "  rev+=(num%10)*base\n",
        "  base*=10\n",
        " return rev\n",
        "num=7654321\n",
        "print(reverse(num))\n"
      ],
      "metadata": {
        "colab": {
          "base_uri": "https://localhost:8080/"
        },
        "id": "5P0tIyLcJt2Z",
        "outputId": "a49c2e4d-d5c9-43a8-ec81-94b4cb3214ed"
      },
      "execution_count": null,
      "outputs": [
        {
          "output_type": "stream",
          "name": "stdout",
          "text": [
            "1234567\n"
          ]
        }
      ]
    },
    {
      "cell_type": "code",
      "source": [
        "# Neon number or not\n",
        "sum=0\n",
        "num=int(input('Enter the no.'))\n",
        "square=num*num\n",
        "while(square!=0):\n",
        "  digit=square%10\n",
        "  sum=sum+digit\n",
        "  square=square//10\n",
        "if(num==sum):\n",
        "  print(str(num)+' is neon number')\n",
        "else:\n",
        "  print(str(num)+'is not neon number')\n"
      ],
      "metadata": {
        "colab": {
          "base_uri": "https://localhost:8080/"
        },
        "id": "m-68ry25K3Fw",
        "outputId": "72f65423-97ad-41b2-d670-f122007d09f2"
      },
      "execution_count": null,
      "outputs": [
        {
          "output_type": "stream",
          "name": "stdout",
          "text": [
            "Enter the no.9\n",
            "9 is neon number\n"
          ]
        }
      ]
    },
    {
      "cell_type": "code",
      "source": [
        "# Automorphic or not\n",
        "num=int(input('Enter the number'))\n",
        "square=pow(num,2)\n",
        "mod=pow(10,len(str(num)))\n",
        "if (square%mod==num):\n",
        "  print('It is an automorphic number')\n",
        "else:\n",
        "  print('It is not an automorphic number')"
      ],
      "metadata": {
        "colab": {
          "base_uri": "https://localhost:8080/"
        },
        "id": "lOb8Amy9MZIw",
        "outputId": "b0b66cda-3ff4-4321-b287-aa16d6369654"
      },
      "execution_count": null,
      "outputs": [
        {
          "output_type": "stream",
          "name": "stdout",
          "text": [
            "Enter the number376\n",
            "It is an automorphic number\n"
          ]
        }
      ]
    },
    {
      "cell_type": "code",
      "source": [
        "# Perfect number or not\n",
        "num = int(input('Enter the no'))\n",
        "sum=0\n",
        "for i in range(1,num):\n",
        "  if(num%i==0):\n",
        "   sum=sum+i\n",
        "if(sum==num):\n",
        "  print('It is a perfect number')\n",
        "else:\n",
        "  print('It is not a perfect number')"
      ],
      "metadata": {
        "colab": {
          "base_uri": "https://localhost:8080/"
        },
        "id": "ozjEJrtONUU9",
        "outputId": "31b404d6-8097-4785-efbf-91b764f3399c"
      },
      "execution_count": null,
      "outputs": [
        {
          "output_type": "stream",
          "name": "stdout",
          "text": [
            "Enter the no28\n",
            "It is a perfect number\n"
          ]
        }
      ]
    },
    {
      "cell_type": "code",
      "source": [
        "# Abundant number or not\n",
        "num=int(input('Enter the number'))\n",
        "sum=1\n",
        "for i in range(2,num):\n",
        "  if(num%i==0):\n",
        "   sum=sum+i\n",
        "if(sum>num):\n",
        "  print('It is an abundant number')\n",
        "else:\n",
        "  print('It is not an abundant number')"
      ],
      "metadata": {
        "colab": {
          "base_uri": "https://localhost:8080/"
        },
        "id": "CcfyLPZxOX9E",
        "outputId": "11a1d532-975a-432a-9330-4ff44bcb2413"
      },
      "execution_count": null,
      "outputs": [
        {
          "output_type": "stream",
          "name": "stdout",
          "text": [
            "Enter the number16\n",
            "It is not an abundant number\n"
          ]
        }
      ]
    },
    {
      "cell_type": "code",
      "source": [
        "# Display neon number from 1 to 1000\n",
        "print(\"Enter a range:\")\n",
        "range1=int(input())\n",
        "range2=int(input())\n",
        "print(\"Neon numbers between \",range1,\" and \",range2,\" are: \")\n",
        "for i in range(range1,range2+1):\n",
        "    sqr =i*i\n",
        "    # Sum of digit\n",
        "    sum = 0\n",
        "    while sqr != 0:\n",
        "       rem = sqr % 10\n",
        "       sum += rem\n",
        "       sqr //= 10\n",
        "\n",
        "    if sum == i:\n",
        "        print(i,end=\" \")"
      ],
      "metadata": {
        "colab": {
          "base_uri": "https://localhost:8080/"
        },
        "id": "CNNhxZHxPKGW",
        "outputId": "19ebb955-eac8-4b9b-a5af-3268942a973b"
      },
      "execution_count": null,
      "outputs": [
        {
          "output_type": "stream",
          "name": "stdout",
          "text": [
            "Enter a range:\n",
            "1\n",
            "1000\n",
            "Neon numbers between  1  and  1000  are: \n",
            "1 9 "
          ]
        }
      ]
    },
    {
      "cell_type": "code",
      "source": [
        "# Spy number or not\n",
        "num = int(input('Enter the number'))\n",
        "sum=0\n",
        "product=1\n",
        "while(num>0):\n",
        "  d=num%10\n",
        "  sum=sum+d\n",
        "  product=product*d\n",
        "  num=num//10\n",
        "if(sum==product):\n",
        "  print('It is a spy number')\n",
        "else:\n",
        "  print('It is not a spy number')"
      ],
      "metadata": {
        "colab": {
          "base_uri": "https://localhost:8080/"
        },
        "id": "j3G89vuJSQ9u",
        "outputId": "e8b071b9-a39a-4d41-80a9-60492db9f301"
      },
      "execution_count": null,
      "outputs": [
        {
          "output_type": "stream",
          "name": "stdout",
          "text": [
            "Enter the number123\n",
            "It is a spy number\n"
          ]
        }
      ]
    },
    {
      "cell_type": "code",
      "source": [
        "# Perfect square or not\n",
        "import math\n",
        "num=int(input('Enter the number'))\n",
        "sqrt_num=math.sqrt(num)\n",
        "if sqrt_num.is_integer():\n",
        "  print('The no. is perfect square')\n",
        "else:\n",
        "  print('The no. is not perfect square')"
      ],
      "metadata": {
        "colab": {
          "base_uri": "https://localhost:8080/"
        },
        "id": "yo_QDFJBTW_E",
        "outputId": "625763de-2718-4640-986d-9b3fab23c4c6"
      },
      "execution_count": null,
      "outputs": [
        {
          "output_type": "stream",
          "name": "stdout",
          "text": [
            "Enter the number225\n",
            "The no. is perfect square\n"
          ]
        }
      ]
    },
    {
      "cell_type": "code",
      "source": [
        "# Prime number or not\n",
        "num=int(input('Enter the number'))\n",
        "flag = False\n",
        "if(num == 1):\n",
        "  print(num,\"is not a prime number\")\n",
        "elif(num > 1):\n",
        "  for i in range(2, num):\n",
        "      if(num % i)==0:\n",
        "        flag = True\n",
        "        break\n",
        "  if flag:\n",
        "    print(num, \"It is not a prime number\")\n",
        "  else:\n",
        "    print(num, \"It is a prime number\")\n"
      ],
      "metadata": {
        "colab": {
          "base_uri": "https://localhost:8080/"
        },
        "id": "2-L6EjG1UKfA",
        "outputId": "f8ca0db9-2370-477a-a540-2702ddbd2d46"
      },
      "execution_count": null,
      "outputs": [
        {
          "output_type": "stream",
          "name": "stdout",
          "text": [
            "Enter the number9\n",
            "9 It is not a prime number\n"
          ]
        }
      ]
    },
    {
      "cell_type": "code",
      "source": [
        "my_list = [\"orange\",\"apple\",\"banana\",\"strawberry\"]\n",
        "print(my_list)\n",
        "print(type(my_list))\n",
        "print(len(my_list))\n",
        "my_list.append('grapes')\n",
        "print(my_list)\n",
        "my_list.extend('pineapple')\n",
        "print(my_list)\n",
        "my_list.remove('grapes')\n",
        "print(my_list)\n",
        "my_list.pop(3)\n",
        "print(my_list)\n",
        "del my_list[1]\n",
        "print(my_list)"
      ],
      "metadata": {
        "colab": {
          "base_uri": "https://localhost:8080/"
        },
        "id": "yctpqwA8m3aX",
        "outputId": "9770ae37-3017-44be-ab4c-9537fbed462c"
      },
      "execution_count": null,
      "outputs": [
        {
          "output_type": "stream",
          "name": "stdout",
          "text": [
            "['orange', 'apple', 'banana', 'strawberry']\n",
            "<class 'list'>\n",
            "4\n",
            "['orange', 'apple', 'banana', 'strawberry', 'grapes']\n",
            "['orange', 'apple', 'banana', 'strawberry', 'grapes', 'p', 'i', 'n', 'e', 'a', 'p', 'p', 'l', 'e']\n",
            "['orange', 'apple', 'banana', 'strawberry', 'p', 'i', 'n', 'e', 'a', 'p', 'p', 'l', 'e']\n",
            "['orange', 'apple', 'banana', 'p', 'i', 'n', 'e', 'a', 'p', 'p', 'l', 'e']\n",
            "['orange', 'banana', 'p', 'i', 'n', 'e', 'a', 'p', 'p', 'l', 'e']\n"
          ]
        }
      ]
    },
    {
      "cell_type": "code",
      "source": [
        "my_list = [\"orange\",10,\"banana\",True]\n",
        "print(my_list[0])\n",
        "print(my_list[-1])\n",
        "print(my_list[-2])\n",
        "print(my_list[1:3])\n",
        "if(\"orange\"in my_list):\n",
        "  print('yes it is in the list')\n",
        "else:\n",
        "  print('No it is not in list')\n",
        "my_list[3]=[\"cherry\"]\n",
        "print(my_list)\n",
        "my_list.insert(3,\"mango\")\n",
        "print(my_list)"
      ],
      "metadata": {
        "colab": {
          "base_uri": "https://localhost:8080/"
        },
        "id": "cphUx8ImoWmh",
        "outputId": "9bd085cf-5ce2-4148-dea6-9302835e0ee6"
      },
      "execution_count": null,
      "outputs": [
        {
          "output_type": "stream",
          "name": "stdout",
          "text": [
            "orange\n",
            "True\n",
            "banana\n",
            "[10, 'banana']\n",
            "yes it is in the list\n",
            "['orange', 10, 'banana', ['cherry']]\n",
            "['orange', 10, 'banana', 'mango', ['cherry']]\n"
          ]
        }
      ]
    },
    {
      "cell_type": "code",
      "source": [
        "my_list = [\"orange\",\"apple\",\"banana\",\"strawberry\"]\n",
        "print(my_list)\n",
        "for i in my_list:\n",
        "  print(i)"
      ],
      "metadata": {
        "colab": {
          "base_uri": "https://localhost:8080/"
        },
        "id": "bFlm2qHY_yt1",
        "outputId": "13c2b48d-0e54-47ab-fa98-dac9fd2cc427"
      },
      "execution_count": null,
      "outputs": [
        {
          "output_type": "stream",
          "name": "stdout",
          "text": [
            "['orange', 'apple', 'banana', 'strawberry']\n",
            "orange\n",
            "apple\n",
            "banana\n",
            "strawberry\n"
          ]
        }
      ]
    },
    {
      "cell_type": "code",
      "source": [
        "my_list = [\"orange\",\"apple\",\"banana\",\"strawberry\"]\n",
        "print(my_list)\n",
        "i = 0\n",
        "while i<len(my_list):\n",
        "    print(my_list[i])\n",
        "    i+=1\n",
        "\n"
      ],
      "metadata": {
        "colab": {
          "base_uri": "https://localhost:8080/"
        },
        "id": "W4M7_ivRDFha",
        "outputId": "20ed6f6b-61ee-44ba-8b98-bbd8eba2da19"
      },
      "execution_count": null,
      "outputs": [
        {
          "output_type": "stream",
          "name": "stdout",
          "text": [
            "['orange', 'apple', 'banana', 'strawberry']\n",
            "orange\n",
            "apple\n",
            "banana\n",
            "strawberry\n"
          ]
        }
      ]
    },
    {
      "cell_type": "code",
      "source": [
        "#python programming for sorting\n",
        "list=[5,2,-3,7,99,33,71,57]\n",
        "n=len(list)\n",
        "for i in range(n):\n",
        "  for j in range(0,n-i-1):\n",
        "    if(list[j]>list[j+1]):\n",
        "      k=list[j]\n",
        "      list[j]=list[j+1]\n",
        "      list[j+1]=k\n",
        "print(list)\n",
        "list.sort()\n",
        "print(list)"
      ],
      "metadata": {
        "colab": {
          "base_uri": "https://localhost:8080/"
        },
        "id": "lIDUnZMqfxda",
        "outputId": "547879a3-be87-477b-a7e2-ce3eedece56f"
      },
      "execution_count": null,
      "outputs": [
        {
          "output_type": "stream",
          "name": "stdout",
          "text": [
            "[-3, 2, 5, 7, 33, 57, 71, 99]\n",
            "[-3, 2, 5, 7, 33, 57, 71, 99]\n"
          ]
        }
      ]
    },
    {
      "cell_type": "code",
      "source": [
        "lista=[5,2,-3.7,99,33,71,57]\n",
        "n=len(lista)\n",
        "for i in range(n):\n",
        "  for j in range(0,n-i-1):\n",
        "    if(list[j]>list[j+1]):\n",
        "      k=list[j]\n",
        "      list[j]=list[j+1]\n",
        "      list[j+1]=k\n",
        "print(lista)\n",
        "\n",
        "listb=[6,-8,-3,7,9,35,76,57]\n",
        "n=len(listb)\n",
        "for i in range(n):\n",
        "  for j in range(0,n-i-1):\n",
        "    if(list[j]>list[j+1]):\n",
        "      k=list[j]\n",
        "      list[j]=list[j+1]\n",
        "      list[j+1]=k\n",
        "print(listb)\n"
      ],
      "metadata": {
        "colab": {
          "base_uri": "https://localhost:8080/"
        },
        "id": "noy1daR-g9uZ",
        "outputId": "a7c4af45-7ad6-44ac-a284-e542a423eb68"
      },
      "execution_count": null,
      "outputs": [
        {
          "output_type": "stream",
          "name": "stdout",
          "text": [
            "[5, 2, -3.7, 99, 33, 71, 57]\n",
            "[6, -8, -3, 7, 9, 35, 76, 57]\n"
          ]
        }
      ]
    },
    {
      "cell_type": "code",
      "source": [
        "a=[5,2,4,1]\n",
        "for i in range(len(a)):\n",
        "  for j in range(len(a)-1):\n",
        "    if a[j]>a[j+1]:\n",
        "        a[j+1],a[j]=a[j],a[j+1]\n",
        "print(a)"
      ],
      "metadata": {
        "colab": {
          "base_uri": "https://localhost:8080/"
        },
        "id": "VBL16g0-vgF8",
        "outputId": "7609ff9e-2eb5-4718-99c3-eea8f3398699"
      },
      "execution_count": null,
      "outputs": [
        {
          "output_type": "stream",
          "name": "stdout",
          "text": [
            "[1, 2, 4, 5]\n"
          ]
        }
      ]
    },
    {
      "cell_type": "code",
      "source": [
        "import numpy as np\n",
        "\n",
        "data2=[[1,2,3,4],[5,6,7,8],[55,66,76,88]]\n",
        "arr2=np.array(data2)\n",
        "print(arr2.ndim)\n",
        "print(arr2.shape)\n",
        "print(arr2)\n"
      ],
      "metadata": {
        "colab": {
          "base_uri": "https://localhost:8080/"
        },
        "id": "NHUjFeFv5_lb",
        "outputId": "96064970-01bb-4168-9106-4637498229e7"
      },
      "execution_count": null,
      "outputs": [
        {
          "output_type": "stream",
          "name": "stdout",
          "text": [
            "2\n",
            "(3, 4)\n",
            "[[ 1  2  3  4]\n",
            " [ 5  6  7  8]\n",
            " [55 66 76 88]]\n"
          ]
        }
      ]
    },
    {
      "cell_type": "code",
      "source": [
        "import numpy as np\n",
        "\n",
        "data2=[[1,2,3,4],[5,6,7,8]]\n",
        "arr2=np.array(data2)\n",
        "print(arr2.ndim)\n",
        "print(arr2.shape)"
      ],
      "metadata": {
        "colab": {
          "base_uri": "https://localhost:8080/"
        },
        "id": "Q4Vxj-TQ7qYX",
        "outputId": "bb058e08-2a68-4538-9021-c634da1f1b37"
      },
      "execution_count": null,
      "outputs": [
        {
          "output_type": "stream",
          "name": "stdout",
          "text": [
            "2\n",
            "(2, 4)\n"
          ]
        }
      ]
    },
    {
      "cell_type": "code",
      "source": [
        "import numpy as np\n",
        "\n",
        "data2=[[1,2,3,4]]\n",
        "arr2=np.array(data2)\n",
        "print(arr2.ndim)\n",
        "print(arr2.shape)\n",
        "print(arr2)"
      ],
      "metadata": {
        "colab": {
          "base_uri": "https://localhost:8080/"
        },
        "id": "bGZELRf684HO",
        "outputId": "d4d3353e-f02b-412a-b3b6-896d8a84e529"
      },
      "execution_count": null,
      "outputs": [
        {
          "output_type": "stream",
          "name": "stdout",
          "text": [
            "2\n",
            "(1, 4)\n",
            "[[1 2 3 4]]\n"
          ]
        }
      ]
    },
    {
      "cell_type": "code",
      "source": [
        "import numpy as np\n",
        "arr=np.random.randint([[1,2,3,4],[5,6,7,8],[9,10,11,12],[13,14,15,16]])\n",
        "print(arr)\n",
        "a=3*arr\n",
        "print(a)\n",
        "b=a-arr\n",
        "print(b)\n",
        "\n",
        "#power of array\n",
        "arr1=np.array([[1,2,3],[4,5,6]])\n",
        "print(arr1)\n",
        "print(arr1**3)\n",
        "\n",
        "#comparison of array\n",
        "arr2=np.array([[0,4,1],[7,2,12]])\n",
        "print(arr2)\n",
        "print(arr2>arr1)"
      ],
      "metadata": {
        "colab": {
          "base_uri": "https://localhost:8080/"
        },
        "id": "m9Dn2H3Vir3D",
        "outputId": "92b304b9-f0fc-4f1e-d8c0-1ac776795d39"
      },
      "execution_count": null,
      "outputs": [
        {
          "output_type": "stream",
          "name": "stdout",
          "text": [
            "[[ 0  1  1  3]\n",
            " [ 3  0  4  6]\n",
            " [ 6  5  7  0]\n",
            " [ 2  1  4 12]]\n",
            "[[ 0  3  3  9]\n",
            " [ 9  0 12 18]\n",
            " [18 15 21  0]\n",
            " [ 6  3 12 36]]\n",
            "[[ 0  2  2  6]\n",
            " [ 6  0  8 12]\n",
            " [12 10 14  0]\n",
            " [ 4  2  8 24]]\n",
            "[[1 2 3]\n",
            " [4 5 6]]\n",
            "[[  1   8  27]\n",
            " [ 64 125 216]]\n",
            "[[ 0  4  1]\n",
            " [ 7  2 12]]\n",
            "[[False  True False]\n",
            " [ True False  True]]\n",
            "[[ 0  1  0  1]\n",
            " [ 1  3  4  0]\n",
            " [ 0  2  9  1]\n",
            " [12  2 14 15]]\n",
            "[[ 0  3  0  3]\n",
            " [ 3  9 12  0]\n",
            " [ 0  6 27  3]\n",
            " [36  6 42 45]]\n",
            "[[ 0  2  0  2]\n",
            " [ 2  6  8  0]\n",
            " [ 0  4 18  2]\n",
            " [24  4 28 30]]\n",
            "[[1 2 3]\n",
            " [4 5 6]]\n",
            "[[  1   8  27]\n",
            " [ 64 125 216]]\n",
            "[[ 0  4  1]\n",
            " [ 7  2 12]]\n",
            "[[False  True False]\n",
            " [ True False  True]]\n"
          ]
        }
      ]
    },
    {
      "cell_type": "code",
      "source": [
        "array=np.arange(0,10,2)\n",
        "a"
      ],
      "metadata": {
        "colab": {
          "base_uri": "https://localhost:8080/"
        },
        "id": "tfVoyCnb9J98",
        "outputId": "229cc1e5-7098-46bf-afb0-f6467103f420"
      },
      "execution_count": null,
      "outputs": [
        {
          "output_type": "execute_result",
          "data": {
            "text/plain": [
              "[1, 2, 4, 5]"
            ]
          },
          "metadata": {},
          "execution_count": 11
        }
      ]
    },
    {
      "cell_type": "code",
      "source": [
        "ar=np.zeros((2,3))\n",
        "ar"
      ],
      "metadata": {
        "colab": {
          "base_uri": "https://localhost:8080/"
        },
        "id": "wNrqav56-B_4",
        "outputId": "951aab9e-e7cb-4cc1-c5a6-fa840429fb41"
      },
      "execution_count": null,
      "outputs": [
        {
          "output_type": "execute_result",
          "data": {
            "text/plain": [
              "array([[0., 0., 0.],\n",
              "       [0., 0., 0.]])"
            ]
          },
          "metadata": {},
          "execution_count": 15
        }
      ]
    },
    {
      "cell_type": "code",
      "source": [
        "array=np.eye(3)\n",
        "array"
      ],
      "metadata": {
        "colab": {
          "base_uri": "https://localhost:8080/"
        },
        "id": "t1i0hG2-_ETr",
        "outputId": "3381ff46-5d67-4610-8bdc-e98d8972f15c"
      },
      "execution_count": null,
      "outputs": [
        {
          "output_type": "execute_result",
          "data": {
            "text/plain": [
              "array([[1., 0., 0.],\n",
              "       [0., 1., 0.],\n",
              "       [0., 0., 1.]])"
            ]
          },
          "metadata": {},
          "execution_count": 18
        }
      ]
    },
    {
      "cell_type": "code",
      "source": [
        "array=np.ones((2,3))\n",
        "array"
      ],
      "metadata": {
        "colab": {
          "base_uri": "https://localhost:8080/"
        },
        "id": "E0oDtF_o_bj5",
        "outputId": "25646a9c-ac1f-40a9-c28a-b2836d29d103"
      },
      "execution_count": null,
      "outputs": [
        {
          "output_type": "execute_result",
          "data": {
            "text/plain": [
              "array([[1., 1., 1.],\n",
              "       [1., 1., 1.]])"
            ]
          },
          "metadata": {},
          "execution_count": 21
        }
      ]
    },
    {
      "cell_type": "code",
      "source": [
        "arr=np.array([[1,2,3],[4,5,6]])\n",
        "print(arr)\n",
        "print(arr*arr)\n",
        "print(arr-arr)"
      ],
      "metadata": {
        "colab": {
          "base_uri": "https://localhost:8080/"
        },
        "id": "ymm0op5JAxRv",
        "outputId": "337faec6-1870-47c2-eb66-e44af67896d3"
      },
      "execution_count": null,
      "outputs": [
        {
          "output_type": "stream",
          "name": "stdout",
          "text": [
            "[[1 2 3]\n",
            " [4 5 6]]\n",
            "[[ 1  4  9]\n",
            " [16 25 36]]\n",
            "[[0 0 0]\n",
            " [0 0 0]]\n"
          ]
        }
      ]
    },
    {
      "cell_type": "code",
      "source": [
        "arr=np.array([[1,2,3],[4,5,6]])\n",
        "print(arr**2)"
      ],
      "metadata": {
        "colab": {
          "base_uri": "https://localhost:8080/"
        },
        "id": "vM6Kzt3NDOoK",
        "outputId": "787f5e20-fcd3-4fc5-be74-efc73a122e68"
      },
      "execution_count": null,
      "outputs": [
        {
          "output_type": "stream",
          "name": "stdout",
          "text": [
            "[[ 1  4  9]\n",
            " [16 25 36]]\n"
          ]
        }
      ]
    },
    {
      "cell_type": "code",
      "source": [
        "arr=np.array([[1,2,3],[4,5,6]])\n",
        "arr2=np.array([[0,4,1],[7,2,12]])\n",
        "print(arr2)\n",
        "print(arr2>arr)"
      ],
      "metadata": {
        "colab": {
          "base_uri": "https://localhost:8080/"
        },
        "id": "DAkR6hHoF8oN",
        "outputId": "60aed018-49bf-4ea4-93d2-1279f4650f7a"
      },
      "execution_count": null,
      "outputs": [
        {
          "output_type": "stream",
          "name": "stdout",
          "text": [
            "[[ 0  4  1]\n",
            " [ 7  2 12]]\n",
            "[[False  True False]\n",
            " [ True False  True]]\n"
          ]
        }
      ]
    },
    {
      "cell_type": "code",
      "source": [
        "arr=np.array([[1,2,3,6],[4,5,6,8]])\n",
        "arr2=np.array([[0,4,1,2],[7,2,12,5]])\n",
        "print(arr2>arr)"
      ],
      "metadata": {
        "colab": {
          "base_uri": "https://localhost:8080/"
        },
        "id": "mkD5bza_HAi2",
        "outputId": "f9b90df6-212b-4d6c-c06a-b9aa2214538e"
      },
      "execution_count": null,
      "outputs": [
        {
          "output_type": "stream",
          "name": "stdout",
          "text": [
            "[[False  True False False]\n",
            " [ True False  True False]]\n"
          ]
        }
      ]
    },
    {
      "cell_type": "code",
      "source": [
        "import numpy as np\n",
        "print('Enter the row size')\n",
        "r=int(input())\n",
        "print('Enter the column size')\n",
        "c=int(input())\n",
        "arr=np.random.randint(0,50,(r,c))\n",
        "print(arr)"
      ],
      "metadata": {
        "colab": {
          "base_uri": "https://localhost:8080/"
        },
        "id": "n6ZMoohkMB14",
        "outputId": "17ec194c-52dc-4b18-8c7c-205577bda9ff"
      },
      "execution_count": null,
      "outputs": [
        {
          "output_type": "stream",
          "name": "stdout",
          "text": [
            "Enter the row size\n",
            "3\n",
            "Enter the column size\n",
            "4\n",
            "[[27 45 20 29]\n",
            " [49 37 18 11]\n",
            " [17 46  5 16]]\n"
          ]
        }
      ]
    },
    {
      "cell_type": "code",
      "source": [
        "import numpy as np\n",
        "print('Enter the row size')\n",
        "r=int(input())\n",
        "print('Enter the column size')\n",
        "c=int(input())\n",
        "arr=np.random.randint(0,50,(r,c))\n",
        "print(arr)\n",
        "arr1=np.random.randint(0,50,(r,c))\n",
        "print(arr1)\n",
        "print(arr>arr1)\n",
        "print(arr1<arr)\n"
      ],
      "metadata": {
        "colab": {
          "base_uri": "https://localhost:8080/"
        },
        "id": "NjEcgj1rNGe4",
        "outputId": "c1d2bd84-5f8e-44ca-b1e4-eab04f85b72c"
      },
      "execution_count": null,
      "outputs": [
        {
          "output_type": "stream",
          "name": "stdout",
          "text": [
            "Enter the row size\n",
            "3\n",
            "Enter the column size\n",
            "4\n",
            "[[33 44 30 19]\n",
            " [29 14  9 38]\n",
            " [31  7 47 22]]\n",
            "[[32 39 13 15]\n",
            " [ 5 34  1 34]\n",
            " [ 0 39 48 38]]\n",
            "[[ True  True  True  True]\n",
            " [ True False  True  True]\n",
            " [ True False False False]]\n",
            "[[ True  True  True  True]\n",
            " [ True False  True  True]\n",
            " [ True False False False]]\n"
          ]
        }
      ]
    },
    {
      "cell_type": "code",
      "source": [
        "def merge_sorted_lists(list1, list2):\n",
        "    merged_list = []\n",
        "    i = 0\n",
        "    j = 0\n",
        "\n",
        "    while i < len(list1) and j < len(list2):\n",
        "        if list1[i] < list2[j]:\n",
        "            merged_list.append(list1[i])\n",
        "            i += 1\n",
        "        else:\n",
        "            merged_list.append(list2[j])\n",
        "            j += 1\n",
        "\n",
        "    # Append remaining elements from list1, if any\n",
        "    while i < len(list1):\n",
        "        merged_list.append(list1[i])\n",
        "        i += 1\n",
        "\n",
        "    # Append remaining elements from list2, if any\n",
        "    while j < len(list2):\n",
        "        merged_list.append(list2[j])\n",
        "        j += 1\n",
        "\n",
        "    return merged_list\n",
        "\n",
        "# Initialize sorted lists\n",
        "list1 = [1, 3, 5, 7, 9]\n",
        "list2 = [2, 4, 6, 8, 10]\n",
        "\n",
        "# Merge and print the sorted list\n",
        "merged_list = merge_sorted_lists(list1, list2)\n",
        "print(\"Merged Sorted List:\", merged_list)"
      ],
      "metadata": {
        "colab": {
          "base_uri": "https://localhost:8080/"
        },
        "id": "aQhowah89OAi",
        "outputId": "61eed926-2d6b-4f5c-8d2f-496a48ffe807"
      },
      "execution_count": null,
      "outputs": [
        {
          "output_type": "stream",
          "name": "stdout",
          "text": [
            "Merged Sorted List: [1, 2, 3, 4, 5, 6, 7, 8, 9, 10]\n"
          ]
        }
      ]
    },
    {
      "cell_type": "code",
      "source": [
        "def find_second_max_min(nums):\n",
        "    if len(nums) < 2:\n",
        "        return None, None\n",
        "\n",
        "    # Sort the list\n",
        "    sorted_nums = sorted(nums)\n",
        "\n",
        "    # Second maximum value\n",
        "    second_max = sorted_nums[-2]\n",
        "\n",
        "    # Second minimum value\n",
        "    second_min = sorted_nums[1]\n",
        "\n",
        "    return second_max, second_min\n",
        "\n",
        "# Initialize unsorted list\n",
        "nums = [9, 3, 7, 1, 5, 8, 2, 6, 4]\n",
        "\n",
        "# Find second maximum and second minimum values\n",
        "second_max, second_min = find_second_max_min(nums)\n",
        "\n",
        "# Print the results\n",
        "print(\"Second maximum value:\", second_max)\n",
        "print(\"Second minimum value:\", second_min)"
      ],
      "metadata": {
        "colab": {
          "base_uri": "https://localhost:8080/"
        },
        "id": "WEHZE4cn-Q6f",
        "outputId": "9b6fa85a-7d2b-4eeb-8034-43b9fa1c9172"
      },
      "execution_count": null,
      "outputs": [
        {
          "output_type": "stream",
          "name": "stdout",
          "text": [
            "Second maximum value: 8\n",
            "Second minimum value: 2\n"
          ]
        }
      ]
    },
    {
      "cell_type": "code",
      "source": [
        "def reverse_list(lst):\n",
        "    reversed_lst = []\n",
        "    # Iterate through the list in reverse order and append elements to the new list\n",
        "    for i in range(len(lst) - 1, -1, -1):\n",
        "        reversed_lst.append(lst[i])\n",
        "    return reversed_lst\n",
        "\n",
        "# Initialize the list\n",
        "original_list = [1, 2, 3, 4, 5]\n",
        "\n",
        "# Reverse the list\n",
        "reversed_list = reverse_list(original_list)\n",
        "\n",
        "# Print the reversed list\n",
        "print(\"Original List:\", original_list)\n",
        "print(\"Reversed List:\", reversed_list)"
      ],
      "metadata": {
        "colab": {
          "base_uri": "https://localhost:8080/"
        },
        "id": "n7268Yup_tQ6",
        "outputId": "c3b99d03-d7ac-4029-9afd-87e54baea02f"
      },
      "execution_count": null,
      "outputs": [
        {
          "output_type": "stream",
          "name": "stdout",
          "text": [
            "Original List: [1, 2, 3, 4, 5]\n",
            "Reversed List: [5, 4, 3, 2, 1]\n"
          ]
        }
      ]
    },
    {
      "cell_type": "code",
      "source": [
        "import numpy as np\n",
        "\n",
        "def compare_arrays(array1, array2):\n",
        "    # Check if the arrays have the same shape\n",
        "    if array1.shape != array2.shape:\n",
        "        return \"Arrays have different shapes.\"\n",
        "\n",
        "    # Compare element-wise\n",
        "    comparison_result = np.equal(array1, array2)\n",
        "\n",
        "    return comparison_result\n",
        "\n",
        "# Generate two n-dimensional arrays\n",
        "n = 3  # You can change this value to generate arrays of different dimensions\n",
        "array1 = np.random.randint(0, 10, size=(n, n, n))\n",
        "array2 = np.random.randint(0, 10, size=(n, n, n))\n",
        "\n",
        "# Compare arrays\n",
        "result = compare_arrays(array1, array2)\n",
        "\n",
        "# Print the comparison result\n",
        "print(\"Array 1:\")\n",
        "print(array1)\n",
        "print(\"\\nArray 2:\")\n",
        "print(array2)\n",
        "print(\"\\nComparison Result:\")\n",
        "print(result)"
      ],
      "metadata": {
        "colab": {
          "base_uri": "https://localhost:8080/"
        },
        "id": "J4FHaZiLAG-F",
        "outputId": "406093de-3731-4490-a4e1-9ae38630db03"
      },
      "execution_count": null,
      "outputs": [
        {
          "output_type": "stream",
          "name": "stdout",
          "text": [
            "Array 1:\n",
            "[[[0 3 2]\n",
            "  [8 6 6]\n",
            "  [1 3 7]]\n",
            "\n",
            " [[7 6 8]\n",
            "  [9 9 0]\n",
            "  [1 6 6]]\n",
            "\n",
            " [[7 1 6]\n",
            "  [8 0 9]\n",
            "  [2 3 0]]]\n",
            "\n",
            "Array 2:\n",
            "[[[2 7 9]\n",
            "  [7 9 2]\n",
            "  [0 2 3]]\n",
            "\n",
            " [[9 8 1]\n",
            "  [2 1 0]\n",
            "  [1 5 3]]\n",
            "\n",
            " [[1 5 4]\n",
            "  [5 9 0]\n",
            "  [0 7 0]]]\n",
            "\n",
            "Comparison Result:\n",
            "[[[False False False]\n",
            "  [False False False]\n",
            "  [False False False]]\n",
            "\n",
            " [[False False False]\n",
            "  [False False  True]\n",
            "  [ True False False]]\n",
            "\n",
            " [[False False False]\n",
            "  [False False False]\n",
            "  [False False  True]]]\n"
          ]
        }
      ]
    },
    {
      "cell_type": "code",
      "source": [
        "def gcd_fun(x,y):\n",
        "  if(y==0):# it divide every number\n",
        "    return x # returnx\n",
        "  else:\n",
        "    return gcd_fun(y,x % y)\n",
        "x=int(input(\"Enter the first number:\"))# take first no.\n",
        "y=int(input(\"Enter the second number:\"))# take second no.\n",
        "num=gcd_fun(x,y) # call the gcd_fun() to find result\n",
        "print(\"GCD of two number is:\")\n",
        "print(num)# call num"
      ],
      "metadata": {
        "colab": {
          "base_uri": "https://localhost:8080/"
        },
        "id": "Nk_0itd05mo_",
        "outputId": "9f53ae97-cad4-4fb6-9420-265bdef4b4bb"
      },
      "execution_count": null,
      "outputs": [
        {
          "output_type": "stream",
          "name": "stdout",
          "text": [
            "Enter the first number:6\n",
            "Enter the second number:8\n",
            "GCD of two number is:\n",
            "2\n"
          ]
        }
      ]
    },
    {
      "cell_type": "code",
      "source": [
        "def linear_search(list1,n,key):\n",
        "\n",
        "  #Searching list1 sequentially\n",
        "   for i in range(0,n):\n",
        "    if (list1[1]==key):\n",
        "       return 1\n",
        "    return-1\n",
        "\n",
        "\n",
        "list1=[1,3,5,4,7,9]\n",
        "key=7\n",
        "\n",
        "n=len(list1)\n",
        "res=linear_search(list1,n,key)\n",
        "if(res==-1):\n",
        "  print(\"Element not found:\")\n",
        "else:\n",
        "  print(\"Element found at index:\",res)\n"
      ],
      "metadata": {
        "id": "zMgOPut19qe4",
        "colab": {
          "base_uri": "https://localhost:8080/"
        },
        "outputId": "a8cd79c3-3140-49bd-ee32-6c3519ddc0c9"
      },
      "execution_count": 11,
      "outputs": [
        {
          "output_type": "stream",
          "name": "stdout",
          "text": [
            "Element not found:\n"
          ]
        }
      ]
    },
    {
      "cell_type": "code",
      "source": [
        "def binary_search(list1,n):\n",
        " low=0\n",
        " high=len(list1)-1\n",
        " mid=0\n",
        " while (low<=high):\n",
        "  # for get integer result\n",
        "  mid=(high+low)//2\n",
        "    # Check if n is present at mid\n",
        " if list1[mid]<n:\n",
        "    low=mid+1\n",
        "    # if n is greater,compare to the right of mid\n",
        " elif list1[mid]>n:\n",
        "    high=mid-1\n",
        "    # if n is smaller,compare to the left of mid\n",
        " else:\n",
        "   return mid\n",
        "      # Element was not present in the list,return-1\n",
        "   return-1\n",
        "# Initial list 1\n",
        "list1=[12,24,32,39,45,50,54]\n",
        "n=45\n",
        "# Function call\n",
        "result=binary_search(list1,n)\n",
        "if result !=-1:\n",
        "  print(\"Element is present at index\",str(result))\n",
        "else:\n",
        "  print(\"Element is not present in list1\")"
      ],
      "metadata": {
        "id": "8kfFYAEM0yx9"
      },
      "execution_count": null,
      "outputs": []
    }
  ],
  "metadata": {
    "colab": {
      "provenance": [],
      "authorship_tag": "ABX9TyNL/8598sGi6wW1BWNuC1E6",
      "include_colab_link": true
    },
    "kernelspec": {
      "display_name": "Python 3",
      "name": "python3"
    },
    "language_info": {
      "name": "python"
    }
  },
  "nbformat": 4,
  "nbformat_minor": 0
}