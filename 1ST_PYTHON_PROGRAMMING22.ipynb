{
  "cells": [
    {
      "cell_type": "markdown",
      "metadata": {
        "id": "view-in-github",
        "colab_type": "text"
      },
      "source": [
        "<a href=\"https://colab.research.google.com/github/KinjalBiswas-2005/python-applications/blob/main/1ST_PYTHON_PROGRAMMING22.ipynb\" target=\"_parent\"><img src=\"https://colab.research.google.com/assets/colab-badge.svg\" alt=\"Open In Colab\"/></a>"
      ]
    },
    {
      "cell_type": "code",
      "execution_count": null,
      "metadata": {
        "colab": {
          "base_uri": "https://localhost:8080/"
        },
        "id": "asNtQnfpxaTB",
        "outputId": "eedc2233-01dc-45d3-9509-97dd75103220"
      },
      "outputs": [
        {
          "name": "stdout",
          "output_type": "stream",
          "text": [
            "welcome to python programming\n"
          ]
        }
      ],
      "source": [
        "print('welcome to python programming')"
      ]
    },
    {
      "cell_type": "code",
      "execution_count": null,
      "metadata": {
        "colab": {
          "base_uri": "https://localhost:8080/"
        },
        "id": "A4PC286EyH5F",
        "outputId": "d3c388ba-c88d-4dfe-b167-0b1eecc3c7c8"
      },
      "outputs": [
        {
          "name": "stdout",
          "output_type": "stream",
          "text": [
            "hellocse\n"
          ]
        }
      ],
      "source": [
        "print('hello',end='')\n",
        "print(\"cse\")"
      ]
    },
    {
      "cell_type": "code",
      "execution_count": null,
      "metadata": {
        "colab": {
          "base_uri": "https://localhost:8080/"
        },
        "id": "qXKcsAmWyuhD",
        "outputId": "ab16662d-2cc2-483a-d955-36e28b43fe54"
      },
      "outputs": [
        {
          "name": "stdout",
          "output_type": "stream",
          "text": [
            "a= 100\n"
          ]
        }
      ],
      "source": [
        "a=100\n",
        "print(\"a=\",a)"
      ]
    },
    {
      "cell_type": "code",
      "execution_count": null,
      "metadata": {
        "colab": {
          "base_uri": "https://localhost:8080/"
        },
        "id": "7PBoGalty74f",
        "outputId": "0dbaaf02-53b0-452d-d977-4ed835041483"
      },
      "outputs": [
        {
          "output_type": "stream",
          "name": "stdout",
          "text": [
            "Enter your nameKinjal\n",
            "Myself : Kinjal\n"
          ]
        }
      ],
      "source": [
        "n=input('Enter your name')\n",
        "print('Myself :', n)"
      ]
    },
    {
      "cell_type": "code",
      "execution_count": null,
      "metadata": {
        "colab": {
          "background_save": true
        },
        "id": "Fss4OXT-3DH-",
        "outputId": "780f209c-ef09-4555-f565-be47b721c066"
      },
      "outputs": [
        {
          "name": "stdout",
          "output_type": "stream",
          "text": [
            "5\n",
            "23\n"
          ]
        }
      ],
      "source": [
        "print(2+3)\n",
        "print"
      ]
    },
    {
      "cell_type": "code",
      "source": [
        "# Complex Number\n",
        "a=12+15j\n",
        "print('a=' ,a)\n",
        "print(a.real)\n",
        "print(a.imag)"
      ],
      "metadata": {
        "colab": {
          "base_uri": "https://localhost:8080/"
        },
        "id": "jVB_yyp_bpm2",
        "outputId": "27515e8b-e451-4600-e8c4-bd97b8ce71ec"
      },
      "execution_count": null,
      "outputs": [
        {
          "output_type": "stream",
          "name": "stdout",
          "text": [
            "a= (12+15j)\n",
            "12.0\n",
            "15.0\n"
          ]
        }
      ]
    },
    {
      "cell_type": "code",
      "source": [
        "a=0b111\n",
        "print('a =', a)\n",
        "b=0xaa\n",
        "print('b =', b)"
      ],
      "metadata": {
        "colab": {
          "base_uri": "https://localhost:8080/"
        },
        "id": "INPqb4KzcN3H",
        "outputId": "9412da6c-1040-4073-98c1-6bccee5ba8d0"
      },
      "execution_count": null,
      "outputs": [
        {
          "output_type": "stream",
          "name": "stdout",
          "text": [
            "a = 7\n",
            "b = 170\n"
          ]
        }
      ]
    },
    {
      "cell_type": "code",
      "source": [
        "from re import T\n",
        "# to check data type\n",
        "a=100\n",
        "b=10.55\n",
        "c='ABIT'\n",
        "d=True\n",
        "print('Type of a=',type(a))\n",
        "print('Type of b=',type(b))\n",
        "print('Type of c=',type(c))\n",
        "print('Type of d=',type(d))\n"
      ],
      "metadata": {
        "colab": {
          "base_uri": "https://localhost:8080/"
        },
        "id": "Z_WHmDMkc1F5",
        "outputId": "0b8875e1-bce9-4fa1-8d3b-954b9dbd4f85"
      },
      "execution_count": null,
      "outputs": [
        {
          "output_type": "stream",
          "name": "stdout",
          "text": [
            "Type of a= <class 'int'>\n",
            "Type of b= <class 'float'>\n",
            "Type of c= <class 'str'>\n",
            "Type of d= <class 'bool'>\n"
          ]
        }
      ]
    },
    {
      "cell_type": "code",
      "source": [
        "print('Hello cse group-ii')"
      ],
      "metadata": {
        "id": "RSem2ZNqgcCt",
        "colab": {
          "base_uri": "https://localhost:8080/"
        },
        "outputId": "cd7ce3e0-ddf7-407f-971d-3732025c149a"
      },
      "execution_count": null,
      "outputs": [
        {
          "output_type": "stream",
          "name": "stdout",
          "text": [
            "Hello cse group-ii\n"
          ]
        }
      ]
    },
    {
      "cell_type": "code",
      "source": [
        "#Using of + operator\n",
        "a = int(input('Enter 1st no.'))\n",
        "b = int(input('Enter 2nd no.'))\n",
        "c = a + b\n",
        "print(c)"
      ],
      "metadata": {
        "colab": {
          "base_uri": "https://localhost:8080/"
        },
        "id": "3xw5nYwPkW0i",
        "outputId": "2ba65dc9-c23e-4b53-931d-402bf5e65f44"
      },
      "execution_count": null,
      "outputs": [
        {
          "output_type": "stream",
          "name": "stdout",
          "text": [
            "Enter 1st no.22\n",
            "Enter 2nd no.33\n",
            "55\n"
          ]
        }
      ]
    },
    {
      "cell_type": "code",
      "source": [
        "a =123\n",
        "print(type(a))\n",
        "b =\"Hello\"\n",
        "print(type(b))\n",
        "c=12.3\n",
        "print(type(c))\n",
        "d=True\n",
        "print(type(d))"
      ],
      "metadata": {
        "colab": {
          "base_uri": "https://localhost:8080/"
        },
        "id": "FIoUb1y9mZS-",
        "outputId": "63afba38-ede0-4bcd-8318-f794f43ea59b"
      },
      "execution_count": null,
      "outputs": [
        {
          "output_type": "stream",
          "name": "stdout",
          "text": [
            "<class 'int'>\n",
            "<class 'str'>\n",
            "<class 'float'>\n",
            "<class 'bool'>\n"
          ]
        }
      ]
    },
    {
      "cell_type": "code",
      "source": [
        "from binascii import b2a_base64\n",
        "#Arithmetic Operators\n",
        "a = 2\n",
        "b = 5\n",
        "c = a+b\n",
        "print('a+b=' ,c)\n",
        "d = a-b\n",
        "print('a-b=' ,d)\n",
        "e = a*b\n",
        "print('a*b=' ,e)\n",
        "f = a/b\n",
        "print('a/b=' ,f)\n",
        "h = a//b\n",
        "print('a-b=' ,h)\n",
        "g = a%b\n",
        "print('a%b=' ,g)\n",
        "i = a**b\n",
        "print('a**b=' ,i)\n"
      ],
      "metadata": {
        "colab": {
          "base_uri": "https://localhost:8080/"
        },
        "id": "74Fxlhrin_Ds",
        "outputId": "605f6233-32ca-4d39-d3d3-960d8c25ad6d"
      },
      "execution_count": null,
      "outputs": [
        {
          "output_type": "stream",
          "name": "stdout",
          "text": [
            "a+b= 7\n",
            "a-b= -3\n",
            "a*b= 10\n",
            "a/b= 0.4\n",
            "a-b= 0\n",
            "a%b= 2\n",
            "a**b= 32\n"
          ]
        }
      ]
    },
    {
      "cell_type": "code",
      "source": [
        "a = 8\n",
        "b = 5\n",
        "d = a != b\n",
        "print('a != b=' ,d)"
      ],
      "metadata": {
        "colab": {
          "base_uri": "https://localhost:8080/"
        },
        "id": "cUSD6N-FsVlj",
        "outputId": "1548964c-8adf-4981-a43c-873b26f08173"
      },
      "execution_count": null,
      "outputs": [
        {
          "output_type": "stream",
          "name": "stdout",
          "text": [
            "a != b= True\n"
          ]
        }
      ]
    },
    {
      "cell_type": "code",
      "source": [
        "#Bitwise - Shift operator\n",
        "a = 4\n",
        "b = 2\n",
        "d = a & b\n",
        "print('a & b=' ,d)\n",
        "f= a << b\n",
        "print('a << b=',f)"
      ],
      "metadata": {
        "colab": {
          "base_uri": "https://localhost:8080/"
        },
        "id": "DSSHQAS-tHMl",
        "outputId": "d6b27941-3993-4024-d3db-8446b65adac8"
      },
      "execution_count": null,
      "outputs": [
        {
          "output_type": "stream",
          "name": "stdout",
          "text": [
            "a & b= 0\n",
            "a << b= 16\n"
          ]
        }
      ]
    },
    {
      "cell_type": "code",
      "source": [
        "a=2\n",
        "b=5\n",
        "a+=b\n",
        "print('a =',a)\n",
        "print('b =',b)"
      ],
      "metadata": {
        "colab": {
          "base_uri": "https://localhost:8080/"
        },
        "id": "1X8vi1UuuiCU",
        "outputId": "852bf26a-b154-4755-d68a-969e8abc353d"
      },
      "execution_count": null,
      "outputs": [
        {
          "output_type": "stream",
          "name": "stdout",
          "text": [
            "a = 7\n",
            "b = 5\n"
          ]
        }
      ]
    },
    {
      "cell_type": "code",
      "source": [
        "#Special Operator\n",
        "a=5\n",
        "b=5\n",
        "d = a is b\n",
        "print('a is b =',d)\n",
        "d = a is not b\n",
        "print('a is not b =',d)"
      ],
      "metadata": {
        "colab": {
          "base_uri": "https://localhost:8080/"
        },
        "id": "WPqNuOwovOJ2",
        "outputId": "b02b8589-9e82-4a92-aacf-c5d7029be195"
      },
      "execution_count": null,
      "outputs": [
        {
          "output_type": "stream",
          "name": "stdout",
          "text": [
            "a is b = True\n",
            "a is not b = False\n"
          ]
        }
      ]
    },
    {
      "cell_type": "code",
      "source": [
        "# in Operator\n",
        "a =\"Hello\"\n",
        "b ='l'\n",
        "c = b in a\n",
        "print('b in a =', c)\n",
        "d = b not in a\n",
        "print('b not in a =',d)"
      ],
      "metadata": {
        "colab": {
          "base_uri": "https://localhost:8080/"
        },
        "id": "uIBsBz4KwQY4",
        "outputId": "3dee95d4-0201-4fe8-cecf-cc8e72a5865f"
      },
      "execution_count": null,
      "outputs": [
        {
          "output_type": "stream",
          "name": "stdout",
          "text": [
            "b in a = True\n",
            "b not in a = False\n"
          ]
        }
      ]
    },
    {
      "cell_type": "code",
      "source": [
        "# input a no and check even.\n",
        "a=int(input('Enter a number'))\n",
        "if a%2==0:\n",
        "  print('Even number')\n",
        "else:\n",
        "   print('Odd number')"
      ],
      "metadata": {
        "colab": {
          "base_uri": "https://localhost:8080/"
        },
        "id": "3xnu-LNgzhVN",
        "outputId": "2309313d-2b01-47ec-ce33-af21f3a364d4"
      },
      "execution_count": null,
      "outputs": [
        {
          "output_type": "stream",
          "name": "stdout",
          "text": [
            "Enter a number5\n",
            "Odd number\n"
          ]
        }
      ]
    },
    {
      "cell_type": "code",
      "source": [
        "# input a no and check maximum.\n",
        "a=int(input('Enter a number'))\n",
        "b=int(input('Enter a number'))\n",
        "if a>b:\n",
        "  print('a is max')\n",
        "else:\n",
        "  print('b is min')"
      ],
      "metadata": {
        "colab": {
          "base_uri": "https://localhost:8080/"
        },
        "id": "bEngXdGv0Q3d",
        "outputId": "d59e5c5c-730c-4213-f41b-f48390a23168"
      },
      "execution_count": null,
      "outputs": [
        {
          "output_type": "stream",
          "name": "stdout",
          "text": [
            "Enter a number26\n",
            "Enter a number34\n",
            "b is min\n"
          ]
        }
      ]
    },
    {
      "cell_type": "code",
      "source": [
        "number=int(input(\"Enter the number?\"))\n",
        "if number==10:\n",
        "  print(\"number is equal to 10\")\n",
        "elif number==50:\n",
        "  print(\"number is equal to 50\")\n",
        "elif number==100:\n",
        "  print(\"number is equal to 100\")\n",
        "else:\n",
        "  print(\"number is not equal to 10,50 or 100\")\n",
        "\n"
      ],
      "metadata": {
        "colab": {
          "base_uri": "https://localhost:8080/"
        },
        "id": "01JJWq5a3jzQ",
        "outputId": "6fd3db83-bdcf-4c95-fefa-8d7ee6d7c518"
      },
      "execution_count": null,
      "outputs": [
        {
          "output_type": "stream",
          "name": "stdout",
          "text": [
            "Enter the number?100\n",
            "number is equal to 100\n"
          ]
        }
      ]
    },
    {
      "cell_type": "code",
      "source": [
        "str = 'PYTHON'\n",
        "for i in str:\n",
        "  print(i)"
      ],
      "metadata": {
        "colab": {
          "base_uri": "https://localhost:8080/"
        },
        "id": "NsxjcKe-4y_s",
        "outputId": "7d6c0c54-ee6e-4f09-b71e-779f2aae0fed"
      },
      "execution_count": null,
      "outputs": [
        {
          "output_type": "stream",
          "name": "stdout",
          "text": [
            "P\n",
            "Y\n",
            "T\n",
            "H\n",
            "O\n",
            "N\n"
          ]
        }
      ]
    },
    {
      "cell_type": "code",
      "source": [
        "for i in range(1,11):\n",
        "  print(i,end =\"\")\n"
      ],
      "metadata": {
        "colab": {
          "base_uri": "https://localhost:8080/"
        },
        "id": "kQymgsEm5kP_",
        "outputId": "7c0ac1f7-840c-45dc-de10-df3eeba25280"
      },
      "execution_count": null,
      "outputs": [
        {
          "output_type": "stream",
          "name": "stdout",
          "text": [
            "12345678910"
          ]
        }
      ]
    },
    {
      "cell_type": "code",
      "source": [
        "\n",
        "n = int(input('n = ?'))\n",
        "c=0\n",
        "for i in range (1,n+1):\n",
        "  if(i%2==1):\n",
        "    c=c+1\n",
        "    print(i,end=',')\n",
        "print('No of ODD=',c)"
      ],
      "metadata": {
        "colab": {
          "base_uri": "https://localhost:8080/"
        },
        "id": "_3_xuOK37AzE",
        "outputId": "38be0848-d039-4e17-a2d6-3bab9c58c2b3"
      },
      "execution_count": null,
      "outputs": [
        {
          "output_type": "stream",
          "name": "stdout",
          "text": [
            "n = ?10\n",
            "1,3,5,7,9,No of ODD= 5\n"
          ]
        }
      ]
    },
    {
      "cell_type": "code",
      "source": [
        "# while loop\n",
        "n = 1\n",
        "while n<=10:\n",
        "  print(n)\n",
        "  n=n+1\n"
      ],
      "metadata": {
        "colab": {
          "base_uri": "https://localhost:8080/"
        },
        "id": "riOKSZpp9qrA",
        "outputId": "c6151dfa-434f-4ba4-ee56-dd5a1c1b723b"
      },
      "execution_count": null,
      "outputs": [
        {
          "output_type": "stream",
          "name": "stdout",
          "text": [
            "1\n",
            "2\n",
            "3\n",
            "4\n",
            "5\n",
            "6\n",
            "7\n",
            "8\n",
            "9\n",
            "10\n"
          ]
        }
      ]
    },
    {
      "cell_type": "code",
      "source": [
        "#while loop\n",
        "num=int(input('Enter the no.s'))\n",
        "rev=0\n",
        "while num!=0:\n",
        "  d=num%10\n",
        "  rev=rev*10+d\n",
        "  num//=10\n",
        "  print('Reverse is'+str(rev))"
      ],
      "metadata": {
        "colab": {
          "base_uri": "https://localhost:8080/"
        },
        "id": "u0ZR2z0lc_dk",
        "outputId": "28497eec-d05f-433b-a312-70c0c9ddc5d4"
      },
      "execution_count": null,
      "outputs": [
        {
          "output_type": "stream",
          "name": "stdout",
          "text": [
            "Enter the no.s34567\n",
            "Reverse is7\n",
            "Reverse is76\n",
            "Reverse is765\n",
            "Reverse is7654\n",
            "Reverse is76543\n"
          ]
        }
      ]
    },
    {
      "cell_type": "code",
      "source": [
        "#to find the reverse of a number\n",
        "n=int(input('Enter a number'))\n",
        "c=0\n",
        "reverse=0\n",
        "while(n>0):\n",
        "  reverse=reverse+n%10\n",
        "n=n/10\n",
        "print('The reverse of the number is',reverse)"
      ],
      "metadata": {
        "id": "rgHbGDAD8SMb"
      },
      "execution_count": null,
      "outputs": []
    },
    {
      "cell_type": "code",
      "source": [
        "rows=6\n",
        "for i in range(rows):\n",
        "  for j in range(i):\n",
        "    print(i,end='')\n",
        "  print('')"
      ],
      "metadata": {
        "colab": {
          "base_uri": "https://localhost:8080/"
        },
        "id": "6tLYlH4Dd8iv",
        "outputId": "a639fdc4-d499-4018-eeb4-ec796b652dc1"
      },
      "execution_count": null,
      "outputs": [
        {
          "output_type": "stream",
          "name": "stdout",
          "text": [
            "\n",
            "1\n",
            "22\n",
            "333\n",
            "4444\n",
            "55555\n"
          ]
        }
      ]
    },
    {
      "cell_type": "code",
      "source": [
        "rows=6\n",
        "b=0\n",
        "for i in range(rows,0,-1):\n",
        "  b +=1\n",
        "  for j in range(1,i,+1):\n",
        "    print(b,end='')\n",
        "  print('\\r')"
      ],
      "metadata": {
        "colab": {
          "base_uri": "https://localhost:8080/"
        },
        "id": "TS-CBPgMedW0",
        "outputId": "d87cac8a-963e-47af-a7a1-a46ee10d53b8"
      },
      "execution_count": null,
      "outputs": [
        {
          "output_type": "stream",
          "name": "stdout",
          "text": [
            "11111\r\n",
            "2222\r\n",
            "333\r\n",
            "44\r\n",
            "5\r\n",
            "\r\n"
          ]
        }
      ]
    },
    {
      "cell_type": "code",
      "source": [
        "n=5\n",
        "for i in range(n,0,-1):\n",
        " b=i\n",
        " for j in range(0,i):\n",
        "  print(b,end='')\n",
        " print('\\r')"
      ],
      "metadata": {
        "colab": {
          "base_uri": "https://localhost:8080/"
        },
        "id": "pMvq6KvEfuj-",
        "outputId": "7f0579eb-6b92-4009-95b4-15be115339ca"
      },
      "execution_count": null,
      "outputs": [
        {
          "output_type": "stream",
          "name": "stdout",
          "text": [
            "55555\r\n",
            "4444\r\n",
            "333\r\n",
            "22\r\n",
            "1\r\n"
          ]
        }
      ]
    },
    {
      "cell_type": "code",
      "source": [
        "for i in range(5,0,-1):\n",
        "  for j in range(i,6):\n",
        "    print(i,end='')\n",
        "  print('')"
      ],
      "metadata": {
        "colab": {
          "base_uri": "https://localhost:8080/"
        },
        "id": "nN-S5Nj1gUQH",
        "outputId": "2699dac6-d636-4609-a4c4-b6d9ba67f4ac"
      },
      "execution_count": null,
      "outputs": [
        {
          "output_type": "stream",
          "name": "stdout",
          "text": [
            "5\n",
            "44\n",
            "333\n",
            "2222\n",
            "11111\n"
          ]
        }
      ]
    },
    {
      "cell_type": "code",
      "source": [
        "rows=6\n",
        "for i in range(1,6):\n",
        "  print(str(i)*(i))\n",
        "\n",
        "\n",
        "for i in range(4,0,-1):\n",
        "    print(str(i)*(i))"
      ],
      "metadata": {
        "id": "0mLG9aHcg874",
        "colab": {
          "base_uri": "https://localhost:8080/"
        },
        "outputId": "3e105b8d-d296-4ad6-dc88-0424a15384db"
      },
      "execution_count": null,
      "outputs": [
        {
          "output_type": "stream",
          "name": "stdout",
          "text": [
            "1\n",
            "22\n",
            "333\n",
            "4444\n",
            "55555\n",
            "4444\n",
            "333\n",
            "22\n",
            "1\n"
          ]
        }
      ]
    },
    {
      "cell_type": "code",
      "source": [
        "rows=6\n",
        "for i in range(rows,0,-1):\n",
        "  for j in range(0,i+1):\n",
        "    print(j,end='')\n",
        "  print('')"
      ],
      "metadata": {
        "colab": {
          "base_uri": "https://localhost:8080/"
        },
        "id": "cDQzthLD14IE",
        "outputId": "6bb862c1-a8ad-4e5f-c50a-df7b2215b7fd"
      },
      "execution_count": null,
      "outputs": [
        {
          "output_type": "stream",
          "name": "stdout",
          "text": [
            "0123456\n",
            "012345\n",
            "01234\n",
            "0123\n",
            "012\n",
            "01\n"
          ]
        }
      ]
    },
    {
      "cell_type": "code",
      "source": [
        "rows=5\n",
        "num=rows\n",
        "for i in range(rows,0,-1):\n",
        "  for j in range(0,i):\n",
        "    print(num,end='')\n",
        "  print('')"
      ],
      "metadata": {
        "colab": {
          "base_uri": "https://localhost:8080/"
        },
        "id": "hlW58y7F2RHr",
        "outputId": "01d0363b-e9c5-447a-afc0-cd1213b3ec31"
      },
      "execution_count": null,
      "outputs": [
        {
          "output_type": "stream",
          "name": "stdout",
          "text": [
            "55555\n",
            "5555\n",
            "555\n",
            "55\n",
            "5\n"
          ]
        }
      ]
    },
    {
      "cell_type": "code",
      "source": [
        "rows=6\n",
        "for i in range(1,rows):\n",
        "  for j in range(1,i+1):\n",
        "    sq=i*j\n",
        "    print(i*j,end='')\n",
        "  print('\\r')"
      ],
      "metadata": {
        "colab": {
          "base_uri": "https://localhost:8080/"
        },
        "id": "Yu5l-duu2p94",
        "outputId": "055028a5-df7c-4620-f029-85f921d4210b"
      },
      "execution_count": null,
      "outputs": [
        {
          "output_type": "stream",
          "name": "stdout",
          "text": [
            "1\r\n",
            "24\r\n",
            "369\r\n",
            "481216\r\n",
            "510152025\r\n"
          ]
        }
      ]
    },
    {
      "cell_type": "code",
      "source": [
        "rows=8\n",
        "for i in range(1,rows+1):\n",
        "  for j in range(1,i+1):\n",
        "    sq=i*j\n",
        "    print(i*j,end=\" \")\n",
        "  print('\\r')"
      ],
      "metadata": {
        "colab": {
          "base_uri": "https://localhost:8080/"
        },
        "id": "RNCvZQ7P3P1E",
        "outputId": "76155f79-72ab-4311-8cdf-fe301123b061"
      },
      "execution_count": null,
      "outputs": [
        {
          "output_type": "stream",
          "name": "stdout",
          "text": [
            "1 \r\n",
            "2 4 \r\n",
            "3 6 9 \r\n",
            "4 8 12 16 \r\n",
            "5 10 15 20 25 \r\n",
            "6 12 18 24 30 36 \r\n",
            "7 14 21 28 35 42 49 \r\n",
            "8 16 24 32 40 48 56 64 \r\n"
          ]
        }
      ]
    },
    {
      "cell_type": "code",
      "source": [
        "rows=70\n",
        "for i in range(65,rows):\n",
        "  for j in range(65,i+1):\n",
        "    print(chr(i),end=\" \")\n",
        "  print(\" \")"
      ],
      "metadata": {
        "colab": {
          "base_uri": "https://localhost:8080/"
        },
        "id": "GahOh5i44ClW",
        "outputId": "de3057ca-fae1-4ed5-8a3d-94e466e68a85"
      },
      "execution_count": null,
      "outputs": [
        {
          "output_type": "stream",
          "name": "stdout",
          "text": [
            "A  \n",
            "B B  \n",
            "C C C  \n",
            "D D D D  \n",
            "E E E E E  \n"
          ]
        }
      ]
    },
    {
      "cell_type": "code",
      "source": [
        "# To find AREA and PERIMETER\n",
        "# Triangle AREA=1/2x b x h ,PERIMETER=a+b+c\n",
        "b = int(input('Enter b = ?'))\n",
        "h = int(input('Enter h= ?'))\n",
        "area = 0.5 * b * h\n",
        "print('AREA OF TRIANGLE =',area)\n",
        "# Triangle PERIMETER= a + b + c\n",
        "a = int(input('Enter a = ?'))\n",
        "b = int(input('Enter b = ?'))\n",
        "c = int(input('Enter c = ?'))\n",
        "perimeter=a*b*c\n",
        "print('PERIMETER OF TRIANGLE =',perimeter)"
      ],
      "metadata": {
        "colab": {
          "base_uri": "https://localhost:8080/"
        },
        "id": "6biBey5gma_p",
        "outputId": "ef1308f0-aeea-4ee0-d119-41056ac60e73"
      },
      "execution_count": null,
      "outputs": [
        {
          "output_type": "stream",
          "name": "stdout",
          "text": [
            "Enter b = ?5\n",
            "Enter h= ?6\n",
            "AREA OF TRIANGLE = 15.0\n",
            "Enter a = ?7\n",
            "Enter b = ?8\n",
            "Enter c = ?4\n",
            "PERIMETER OF TRIANGLE = 224\n"
          ]
        }
      ]
    },
    {
      "cell_type": "code",
      "source": [
        "for var in \"ABIT\":\n",
        "  if var==\"B\":\n",
        "    continue\n",
        "  print(var)"
      ],
      "metadata": {
        "colab": {
          "base_uri": "https://localhost:8080/"
        },
        "id": "3E2u9HEhqMUQ",
        "outputId": "7b597606-c90a-469c-f4b5-30d4329fe3c3"
      },
      "execution_count": null,
      "outputs": [
        {
          "output_type": "stream",
          "name": "stdout",
          "text": [
            "A\n",
            "I\n",
            "T\n"
          ]
        }
      ]
    },
    {
      "cell_type": "code",
      "source": [
        "for i in range(10):\n",
        "   print(i)\n",
        "   if i == 2:\n",
        "    break"
      ],
      "metadata": {
        "colab": {
          "base_uri": "https://localhost:8080/"
        },
        "id": "iXqnBx20r-ne",
        "outputId": "c4c7bc5e-cc04-4d45-e361-a8694a10a508"
      },
      "execution_count": null,
      "outputs": [
        {
          "output_type": "stream",
          "name": "stdout",
          "text": [
            "0\n",
            "1\n",
            "2\n"
          ]
        }
      ]
    },
    {
      "cell_type": "code",
      "source": [
        "x = abs(-7.25)\n",
        "print(x)\n"
      ],
      "metadata": {
        "colab": {
          "base_uri": "https://localhost:8080/"
        },
        "id": "576y1dKCtgga",
        "outputId": "fb580a6e-1fcb-48a8-bedd-b08021281997"
      },
      "execution_count": null,
      "outputs": [
        {
          "output_type": "stream",
          "name": "stdout",
          "text": [
            "7.25\n"
          ]
        }
      ]
    },
    {
      "cell_type": "code",
      "source": [
        "list = [0,2,2]\n",
        "a = all(list)\n",
        "print(a)"
      ],
      "metadata": {
        "colab": {
          "base_uri": "https://localhost:8080/"
        },
        "id": "GyccqqmUuvuB",
        "outputId": "e6d399e0-613e-4408-ab23-18f4adccbda5"
      },
      "execution_count": null,
      "outputs": [
        {
          "output_type": "stream",
          "name": "stdout",
          "text": [
            "False\n"
          ]
        }
      ]
    },
    {
      "cell_type": "code",
      "source": [
        "tuple = (0,1,False)\n",
        "a = any(tuple)\n",
        "print(a)"
      ],
      "metadata": {
        "colab": {
          "base_uri": "https://localhost:8080/"
        },
        "id": "9YH66e3Qu-QG",
        "outputId": "751bce84-e68f-4357-81fb-ef9fd1ca65a4"
      },
      "execution_count": null,
      "outputs": [
        {
          "output_type": "stream",
          "name": "stdout",
          "text": [
            "True\n"
          ]
        }
      ]
    },
    {
      "cell_type": "code",
      "source": [
        "a = ascii(\"Mostly Sane\")\n",
        "print(a)\n"
      ],
      "metadata": {
        "colab": {
          "base_uri": "https://localhost:8080/"
        },
        "id": "8Xu2XTH2vNaX",
        "outputId": "ff5608cf-74a0-4850-fc4c-7a74848677cf"
      },
      "execution_count": null,
      "outputs": [
        {
          "output_type": "stream",
          "name": "stdout",
          "text": [
            "'Mostly Sane'\n"
          ]
        }
      ]
    },
    {
      "cell_type": "code",
      "source": [
        "a = bin(30)\n",
        "print(a)"
      ],
      "metadata": {
        "colab": {
          "base_uri": "https://localhost:8080/"
        },
        "id": "7rot0v44vgra",
        "outputId": "91d41da6-9de7-4e5c-d88f-a010081811d0"
      },
      "execution_count": null,
      "outputs": [
        {
          "output_type": "stream",
          "name": "stdout",
          "text": [
            "0b11110\n"
          ]
        }
      ]
    },
    {
      "cell_type": "code",
      "source": [
        "a = bool(22)\n",
        "print(a)"
      ],
      "metadata": {
        "colab": {
          "base_uri": "https://localhost:8080/"
        },
        "id": "8wlR_xKjvo3z",
        "outputId": "23e3fee8-b9b8-4aa6-fa4e-748143544a05"
      },
      "execution_count": null,
      "outputs": [
        {
          "output_type": "stream",
          "name": "stdout",
          "text": [
            "True\n"
          ]
        }
      ]
    },
    {
      "cell_type": "code",
      "source": [
        "a = ('jhon','ann','sia')\n",
        "b = enumerate(a)\n",
        "print(b)"
      ],
      "metadata": {
        "colab": {
          "base_uri": "https://localhost:8080/"
        },
        "id": "reV9zK_5vvIi",
        "outputId": "7e54f7ff-09ff-49d2-9acc-869deed005e9"
      },
      "execution_count": null,
      "outputs": [
        {
          "output_type": "stream",
          "name": "stdout",
          "text": [
            "<enumerate object at 0x7d5bfe7778c0>\n"
          ]
        }
      ]
    },
    {
      "cell_type": "code",
      "source": [
        "class Student:\n",
        " name = \"Ann\"\n",
        " age = 28\n",
        " country = \"USA\"\n",
        "x = getattr(Student,'age')\n",
        "print(x)"
      ],
      "metadata": {
        "colab": {
          "base_uri": "https://localhost:8080/"
        },
        "id": "9-AyMvd-wPgX",
        "outputId": "20365120-9264-4f6b-f413-479c04b60ebc"
      },
      "execution_count": null,
      "outputs": [
        {
          "output_type": "stream",
          "name": "stdout",
          "text": [
            "28\n"
          ]
        }
      ]
    },
    {
      "cell_type": "code",
      "source": [
        "a = dict(name=\"Jaydon\",mob=1834567,country=\"Canada\")\n",
        "print(a)"
      ],
      "metadata": {
        "colab": {
          "base_uri": "https://localhost:8080/"
        },
        "id": "z58cfOc40Z5Y",
        "outputId": "60dcd8be-6c11-4868-b5ad-aa38b3bb87e8"
      },
      "execution_count": null,
      "outputs": [
        {
          "output_type": "stream",
          "name": "stdout",
          "text": [
            "{'name': 'Jaydon', 'mob': 1834567, 'country': 'Canada'}\n"
          ]
        }
      ]
    },
    {
      "cell_type": "code",
      "source": [
        "class User:\n",
        "  name=\"Jaydon\"\n",
        "  mob=1543678\n",
        "  country=\"Canada\"\n",
        "print(dir(User))"
      ],
      "metadata": {
        "colab": {
          "base_uri": "https://localhost:8080/"
        },
        "id": "3aJfMMrs14Rt",
        "outputId": "2c240064-8f78-4ba6-dda0-080150d86303"
      },
      "execution_count": null,
      "outputs": [
        {
          "output_type": "stream",
          "name": "stdout",
          "text": [
            "['__class__', '__delattr__', '__dict__', '__dir__', '__doc__', '__eq__', '__format__', '__ge__', '__getattribute__', '__gt__', '__hash__', '__init__', '__init_subclass__', '__le__', '__lt__', '__module__', '__ne__', '__new__', '__reduce__', '__reduce_ex__', '__repr__', '__setattr__', '__sizeof__', '__str__', '__subclasshook__', '__weakref__', 'country', 'mob', 'name']\n"
          ]
        }
      ]
    },
    {
      "cell_type": "code",
      "source": [
        "a=globals()\n",
        "print(a)"
      ],
      "metadata": {
        "colab": {
          "base_uri": "https://localhost:8080/"
        },
        "id": "jH8DBMid2Tyk",
        "outputId": "57b3be5e-f719-46d3-c868-4764c6ccc993"
      },
      "execution_count": null,
      "outputs": [
        {
          "output_type": "stream",
          "name": "stdout",
          "text": [
            "{'__name__': '__main__', '__doc__': 'Automatically created module for IPython interactive environment', '__package__': None, '__loader__': None, '__spec__': None, '__builtin__': <module 'builtins' (built-in)>, '__builtins__': <module 'builtins' (built-in)>, '_ih': ['', \"a = dict('name':'Jaydon','mob':1834567,'country':'Canada')\\nprint(a)\", \"a = dict('name': 'Jaydon','mob': 1834567,'country': 'Canada')\\nprint(a)\", 'a = dict(name:\"Jaydon\",mob: 1834567,country:\"Canada\")\\nprint(a)', 'a = dict(name=\"Jaydon\",mob=1834567,country=\"Canada\")\\nprint(a)', 'class User:\\n  name=\"Jaydon\"\\n  mob=1543678\\n  country=\"Canada\"\\n  print(dir(User))', 'class User:\\n  name=\"Jaydon\"\\n  mob=1543678\\n  country=\"Canada\"\\nprint(dir(User))', 'a=globals()\\nprint(a)'], '_oh': {}, '_dh': ['/content'], 'In': ['', \"a = dict('name':'Jaydon','mob':1834567,'country':'Canada')\\nprint(a)\", \"a = dict('name': 'Jaydon','mob': 1834567,'country': 'Canada')\\nprint(a)\", 'a = dict(name:\"Jaydon\",mob: 1834567,country:\"Canada\")\\nprint(a)', 'a = dict(name=\"Jaydon\",mob=1834567,country=\"Canada\")\\nprint(a)', 'class User:\\n  name=\"Jaydon\"\\n  mob=1543678\\n  country=\"Canada\"\\n  print(dir(User))', 'class User:\\n  name=\"Jaydon\"\\n  mob=1543678\\n  country=\"Canada\"\\nprint(dir(User))', 'a=globals()\\nprint(a)'], 'Out': {}, 'get_ipython': <bound method InteractiveShell.get_ipython of <google.colab._shell.Shell object at 0x7c19c75638e0>>, 'exit': <IPython.core.autocall.ZMQExitAutocall object at 0x7c19c7563e80>, 'quit': <IPython.core.autocall.ZMQExitAutocall object at 0x7c19c7563e80>, '_': '', '__': '', '___': '', '_i': 'class User:\\n  name=\"Jaydon\"\\n  mob=1543678\\n  country=\"Canada\"\\nprint(dir(User))', '_ii': 'class User:\\n  name=\"Jaydon\"\\n  mob=1543678\\n  country=\"Canada\"\\n  print(dir(User))', '_iii': 'a = dict(name=\"Jaydon\",mob=1834567,country=\"Canada\")\\nprint(a)', '_i1': \"a = dict('name':'Jaydon','mob':1834567,'country':'Canada')\\nprint(a)\", '_i2': \"a = dict('name': 'Jaydon','mob': 1834567,'country': 'Canada')\\nprint(a)\", '_i3': 'a = dict(name:\"Jaydon\",mob: 1834567,country:\"Canada\")\\nprint(a)', '_i4': 'a = dict(name=\"Jaydon\",mob=1834567,country=\"Canada\")\\nprint(a)', 'a': {...}, '_i5': 'class User:\\n  name=\"Jaydon\"\\n  mob=1543678\\n  country=\"Canada\"\\n  print(dir(User))', '_i6': 'class User:\\n  name=\"Jaydon\"\\n  mob=1543678\\n  country=\"Canada\"\\nprint(dir(User))', 'User': <class '__main__.User'>, '_i7': 'a=globals()\\nprint(a)'}\n"
          ]
        }
      ]
    },
    {
      "cell_type": "code",
      "source": [
        "a=format(1.5,'%')\n",
        "print(a)"
      ],
      "metadata": {
        "colab": {
          "base_uri": "https://localhost:8080/"
        },
        "id": "OniiQjbX2rfs",
        "outputId": "642f2321-fa0a-4257-8ede-227b92ebd9ca"
      },
      "execution_count": null,
      "outputs": [
        {
          "output_type": "stream",
          "name": "stdout",
          "text": [
            "150.000000%\n"
          ]
        }
      ]
    },
    {
      "cell_type": "code",
      "source": [
        "score=[15,10,20,17,26,42]\n",
        "def customFunc(a):\n",
        "  if a<20:\n",
        "   return False\n",
        "  else:\n",
        "    return True\n",
        "players=filter(customFunc,score)\n",
        "for a in players:\n",
        " print(a)"
      ],
      "metadata": {
        "colab": {
          "base_uri": "https://localhost:8080/"
        },
        "id": "SBVditT1229Z",
        "outputId": "e921099a-3e4a-48c2-d56d-240ac69f426f"
      },
      "execution_count": null,
      "outputs": [
        {
          "output_type": "stream",
          "name": "stdout",
          "text": [
            "20\n",
            "26\n",
            "42\n"
          ]
        }
      ]
    },
    {
      "cell_type": "code",
      "source": [
        "class speed:\n",
        "  kmph=136\n",
        "class car(speed):\n",
        "  name=\"BMW\"\n",
        "  speed=speed\n",
        "x=issubclass(car,speed)\n",
        "print(x)\n"
      ],
      "metadata": {
        "colab": {
          "base_uri": "https://localhost:8080/"
        },
        "id": "_L9cAQQW4SM2",
        "outputId": "f5e4342e-b509-4dcd-f5d5-d0394c0035ca"
      },
      "execution_count": null,
      "outputs": [
        {
          "output_type": "stream",
          "name": "stdout",
          "text": [
            "True\n"
          ]
        }
      ]
    },
    {
      "cell_type": "code",
      "source": [
        "x=iter([\"jhon\",\"lisa\",\"maria\",\"ava\"])\n",
        "print(next(x))\n",
        "print(next(x))\n",
        "print(next(x))\n",
        "print(next(x))"
      ],
      "metadata": {
        "colab": {
          "base_uri": "https://localhost:8080/"
        },
        "id": "2UFviKUe5UxQ",
        "outputId": "5eb6eb01-fd41-47d7-d1ba-df309faeb0a1"
      },
      "execution_count": null,
      "outputs": [
        {
          "output_type": "stream",
          "name": "stdout",
          "text": [
            "jhon\n",
            "lisa\n",
            "maria\n",
            "ava\n"
          ]
        }
      ]
    },
    {
      "cell_type": "code",
      "source": [
        "a=bytes(22)\n",
        "print(a)"
      ],
      "metadata": {
        "colab": {
          "base_uri": "https://localhost:8080/"
        },
        "id": "lbQCuIHh57v5",
        "outputId": "116bd7f6-e841-455b-9b2c-9853e7082037"
      },
      "execution_count": null,
      "outputs": [
        {
          "output_type": "stream",
          "name": "stdout",
          "text": [
            "b'\\x00\\x00\\x00\\x00\\x00\\x00\\x00\\x00\\x00\\x00\\x00\\x00\\x00\\x00\\x00\\x00\\x00\\x00\\x00\\x00\\x00\\x00'\n"
          ]
        }
      ]
    },
    {
      "cell_type": "code",
      "source": [
        "a=compile('print(45)','test','eval')\n",
        "exec(a)"
      ],
      "metadata": {
        "colab": {
          "base_uri": "https://localhost:8080/"
        },
        "id": "bBbvBFK26DKc",
        "outputId": "766a9d0b-513a-49e8-9054-53623777968a"
      },
      "execution_count": null,
      "outputs": [
        {
          "output_type": "stream",
          "name": "stdout",
          "text": [
            "45\n"
          ]
        }
      ]
    },
    {
      "cell_type": "code",
      "source": [
        "# User defined Function\n",
        "def show():\n",
        "  print('HELLO CSE')\n",
        "show()"
      ],
      "metadata": {
        "colab": {
          "base_uri": "https://localhost:8080/"
        },
        "id": "lB8vbqn7zB9W",
        "outputId": "0be7d988-8967-4229-9065-cd8aa6d14080"
      },
      "execution_count": null,
      "outputs": [
        {
          "output_type": "stream",
          "name": "stdout",
          "text": [
            "HELLO CSE\n"
          ]
        }
      ]
    },
    {
      "cell_type": "code",
      "source": [
        "# Passing Parameters in User Defined Function\n",
        "def ADD(a,b):\n",
        "  c=a+b\n",
        "  print('SUM OF TWO NUMBERS=',c)\n",
        "ADD(10,20)"
      ],
      "metadata": {
        "colab": {
          "base_uri": "https://localhost:8080/"
        },
        "id": "FywqgZaTzuzH",
        "outputId": "ad2c2c90-e1b2-4665-cfb4-406b7aa68c15"
      },
      "execution_count": null,
      "outputs": [
        {
          "output_type": "stream",
          "name": "stdout",
          "text": [
            "SUM OF TWO NUMBERS= 30\n"
          ]
        }
      ]
    },
    {
      "cell_type": "code",
      "source": [
        "# Passing Parameters in User Defined Function Using KEYBOARD\n",
        "def ADD(a,b):\n",
        "  c=a+b\n",
        "  print('SUM OF TWO NUMBERS=',c)\n",
        "ADD(10,20)\n",
        "p=int(input(\"Enter 1st no.= ?\"))\n",
        "q=int(input(\"Enter 2nd no.= ?\"))\n",
        "ADD(p,q)"
      ],
      "metadata": {
        "colab": {
          "base_uri": "https://localhost:8080/"
        },
        "id": "gVNuAi4H0kKG",
        "outputId": "59ef5168-f3cd-4828-8732-5757fe8d9322"
      },
      "execution_count": null,
      "outputs": [
        {
          "output_type": "stream",
          "name": "stdout",
          "text": [
            "SUM OF TWO NUMBERS= 30\n",
            "Enter 1st no.= ?40\n",
            "Enter 2nd no.= ?50\n",
            "SUM OF TWO NUMBERS= 90\n"
          ]
        }
      ]
    },
    {
      "cell_type": "code",
      "source": [
        "# Using Return Statement in User Defined Function.\n",
        "def sumofn(n):\n",
        "  s=0\n",
        "  for i in range(1,n+1):\n",
        "    s=s+i\n",
        "  return(s)\n",
        "m=int(input(\"Enter n value= ?\"))\n",
        "print('Sum of N=',sumofn(m))\n"
      ],
      "metadata": {
        "colab": {
          "base_uri": "https://localhost:8080/"
        },
        "id": "o7W3l8pk1oc0",
        "outputId": "199b7494-95ed-472d-a817-79828299381d"
      },
      "execution_count": null,
      "outputs": [
        {
          "output_type": "stream",
          "name": "stdout",
          "text": [
            "Enter n value= ?6\n",
            "Sum of N= 21\n"
          ]
        }
      ]
    },
    {
      "cell_type": "code",
      "source": [
        "def star(p,q):\n",
        " number=1\n",
        " for i in range(1,p):\n",
        "    for j in range(1,q):\n",
        "      if(j<=i):\n",
        "         print(number,end=\" \")\n",
        "         number+=1\n",
        "    print()\n",
        "\n",
        "\n",
        "m=int(input('Enter the no.for row= ?'))\n",
        "n=int(input('Enter the no. for column= ?'))\n",
        "star(m,n)\n"
      ],
      "metadata": {
        "colab": {
          "base_uri": "https://localhost:8080/"
        },
        "id": "UZCjDYjW3HCU",
        "outputId": "a254a0b0-056e-47fe-b72f-6b19ec22fd3d"
      },
      "execution_count": null,
      "outputs": [
        {
          "output_type": "stream",
          "name": "stdout",
          "text": [
            "Enter the no.for row= ?5\n",
            "Enter the no. for column= ?4\n",
            "1 \n",
            "2 3 \n",
            "4 5 6 \n",
            "7 8 9 \n"
          ]
        }
      ]
    },
    {
      "cell_type": "code",
      "source": [
        "list=['P','Y','T','H','O','N']\n",
        "print(list)\n",
        "print(list[2:6])\n",
        "print(list[:4])\n",
        "print(list[4:])"
      ],
      "metadata": {
        "colab": {
          "base_uri": "https://localhost:8080/"
        },
        "id": "SZg0UQuJ__Sv",
        "outputId": "74225c82-e517-4cbb-beea-c9fa93d87b42"
      },
      "execution_count": null,
      "outputs": [
        {
          "output_type": "stream",
          "name": "stdout",
          "text": [
            "['P', 'Y', 'T', 'H', 'O', 'N']\n",
            "['T', 'H', 'O', 'N']\n",
            "['P', 'Y', 'T', 'H']\n",
            "['O', 'N']\n"
          ]
        }
      ]
    },
    {
      "cell_type": "code",
      "source": [
        "list=[10,20,30,40,50,60,70,80,90]\n",
        "print(list[2:6])"
      ],
      "metadata": {
        "colab": {
          "base_uri": "https://localhost:8080/"
        },
        "id": "ar-Qij1wA_Hy",
        "outputId": "844e6519-85f3-4766-9a7c-612403286f88"
      },
      "execution_count": null,
      "outputs": [
        {
          "output_type": "stream",
          "name": "stdout",
          "text": [
            "[30, 40, 50, 60]\n"
          ]
        }
      ]
    }
  ],
  "metadata": {
    "colab": {
      "provenance": [],
      "authorship_tag": "ABX9TyMs3hUTo+LO4MTd9D4R7VUf",
      "include_colab_link": true
    },
    "kernelspec": {
      "display_name": "Python 3",
      "name": "python3"
    },
    "language_info": {
      "name": "python"
    }
  },
  "nbformat": 4,
  "nbformat_minor": 0
}